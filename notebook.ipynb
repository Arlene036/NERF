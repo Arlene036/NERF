{
 "cells": [
  {
   "cell_type": "code",
   "execution_count": 4,
   "outputs": [
    {
     "name": "stdout",
     "output_type": "stream",
     "text": [
      "[{'element': array([ 9,  6,  6,  6,  6,  6,  6,  9,  9,  7,  8,  8,  7,  6, 16,  6,  6,\n",
      "        6,  6,  7, 11,  1,  6,  8,  6,  6,  6]), 'src_bond': array([[ 1,  0,  0,  0,  0,  0],\n",
      "       [ 0,  2,  6,  1,  1,  1],\n",
      "       [ 1,  3,  9,  2,  2,  2],\n",
      "       [ 2,  4,  3,  3,  3,  3],\n",
      "       [ 3,  5,  8,  4,  4,  4],\n",
      "       [ 4,  6,  7,  5,  5,  5],\n",
      "       [ 1,  5,  6,  6,  6,  6],\n",
      "       [ 5,  7,  7,  7,  7,  7],\n",
      "       [ 4,  8,  8,  8,  8,  8],\n",
      "       [ 2, 10, 10, 11,  9,  9],\n",
      "       [ 9,  9, 10, 10, 10, 10],\n",
      "       [ 9, 11, 11, 11, 11, 11],\n",
      "       [13, 12, 12, 12, 12, 12],\n",
      "       [12, 14, 17, 13, 13, 13],\n",
      "       [13, 15, 14, 14, 14, 14],\n",
      "       [14, 16, 15, 15, 15, 15],\n",
      "       [15, 17, 16, 16, 16, 16],\n",
      "       [13, 16, 18, 17, 17, 17],\n",
      "       [17, 19, 19, 19, 18, 18],\n",
      "       [18, 18, 18, 19, 19, 19],\n",
      "       [20, 20, 20, 20, 20, 20],\n",
      "       [21, 21, 21, 21, 21, 21],\n",
      "       [23, 26, 22, 22, 22, 22],\n",
      "       [22, 24, 23, 23, 23, 23],\n",
      "       [23, 25, 24, 24, 24, 24],\n",
      "       [24, 26, 25, 25, 25, 25],\n",
      "       [22, 25, 26, 26, 26, 26]]), 'tgt_bond': array([[ 0,  0,  0,  0,  0,  0],\n",
      "       [ 2,  6, 12,  1,  1,  1],\n",
      "       [ 1,  3,  9,  2,  2,  2],\n",
      "       [ 2,  4,  3,  3,  3,  3],\n",
      "       [ 3,  5,  8,  4,  4,  4],\n",
      "       [ 4,  6,  7,  5,  5,  5],\n",
      "       [ 1,  5,  6,  6,  6,  6],\n",
      "       [ 5,  7,  7,  7,  7,  7],\n",
      "       [ 4,  8,  8,  8,  8,  8],\n",
      "       [ 2, 10, 10, 11,  9,  9],\n",
      "       [ 9,  9, 10, 10, 10, 10],\n",
      "       [ 9, 11, 11, 11, 11, 11],\n",
      "       [ 1, 13, 12, 12, 12, 12],\n",
      "       [12, 14, 17, 13, 13, 13],\n",
      "       [13, 15, 14, 14, 14, 14],\n",
      "       [14, 16, 15, 15, 15, 15],\n",
      "       [15, 17, 16, 16, 16, 16],\n",
      "       [13, 16, 18, 17, 17, 17],\n",
      "       [17, 19, 19, 19, 18, 18],\n",
      "       [18, 18, 18, 19, 19, 19],\n",
      "       [ 0,  0,  0,  0,  0,  0],\n",
      "       [ 0,  0,  0,  0,  0,  0],\n",
      "       [ 0,  0,  0,  0,  0,  0],\n",
      "       [ 0,  0,  0,  0,  0,  0],\n",
      "       [ 0,  0,  0,  0,  0,  0],\n",
      "       [ 0,  0,  0,  0,  0,  0],\n",
      "       [ 0,  0,  0,  0,  0,  0]]), 'src_charge': array([ 0,  0,  0,  0,  0,  0,  0,  0,  0,  1,  0, -1,  0,  0,  0,  0,  0,\n",
      "        0,  0,  0,  1, -1,  0,  0,  0,  0,  0]), 'tgt_charge': array([ 0,  0,  0,  0,  0,  0,  0,  0,  0,  1,  0, -1,  0,  0,  0,  0,  0,\n",
      "        0,  0,  0,  0,  0,  0,  0,  0,  0,  0]), 'src_aroma': array([0, 1, 1, 1, 1, 1, 1, 0, 0, 0, 0, 0, 0, 1, 1, 1, 1, 1, 0, 0, 0, 0,\n",
      "       0, 0, 0, 0, 0]), 'tgt_aroma': array([0, 1, 1, 1, 1, 1, 1, 0, 0, 0, 0, 0, 0, 1, 1, 1, 1, 1, 0, 0, 0, 0,\n",
      "       0, 0, 0, 0, 0]), 'src_mask': array([0, 0, 0, 0, 0, 0, 0, 0, 0, 0, 0, 0, 0, 0, 0, 0, 0, 0, 0, 0, 0, 0,\n",
      "       0, 0, 0, 0, 0]), 'tgt_mask': array([1, 0, 0, 0, 0, 0, 0, 0, 0, 0, 0, 0, 0, 0, 0, 0, 0, 0, 0, 0, 1, 1,\n",
      "       1, 1, 1, 1, 1]), 'src_segment': array([1, 1, 1, 1, 1, 1, 1, 1, 1, 1, 1, 1, 3, 3, 3, 3, 3, 3, 3, 3, 4, 2,\n",
      "       0, 0, 0, 0, 0]), 'tgt_segment': array([0, 0, 0, 0, 0, 0, 0, 0, 0, 0, 0, 0, 0, 0, 0, 0, 0, 0, 0, 0, 0, 0,\n",
      "       0, 0, 0, 0, 0]), 'reactant': array([1, 1, 1, 1, 1, 1, 1, 1, 1, 1, 1, 1, 1, 1, 1, 1, 1, 1, 1, 1, 0, 0,\n",
      "       0, 0, 0, 0, 0])}, {'element': array([ 6,  6,  7,  7,  6,  6,  6,  6,  8,  6,  6,  6,  6,  6,  6,  6,  6,\n",
      "        9,  9,  9,  6, 15,  6,  6,  6,  6,  6,  6,  6,  6,  6,  6,  6,  6,\n",
      "        8,  6,  6,  6,  6,  7,  6,  6,  6,  6,  6,  6,  8,  6,  8,  6,  6,\n",
      "        6,  6,  6,  6,  6]), 'src_bond': array([[ 1,  0,  0,  0,  0,  0],\n",
      "       [ 0,  2,  5,  1,  1,  1],\n",
      "       [ 1,  3,  2,  2,  2,  2],\n",
      "       [ 2,  4, 10,  3,  3,  3],\n",
      "       [ 3,  5,  4,  4,  4,  4],\n",
      "       [ 1,  4,  6,  5,  5,  5],\n",
      "       [ 5,  7,  9,  6,  6,  6],\n",
      "       [ 6,  8,  7,  7,  7,  7],\n",
      "       [ 7,  8,  8,  8,  8,  8],\n",
      "       [ 6,  9,  9,  9,  9,  9],\n",
      "       [ 3, 11, 15, 10, 10, 10],\n",
      "       [10, 12, 11, 11, 11, 11],\n",
      "       [11, 13, 12, 12, 12, 12],\n",
      "       [12, 14, 16, 13, 13, 13],\n",
      "       [13, 15, 14, 14, 14, 14],\n",
      "       [10, 14, 15, 15, 15, 15],\n",
      "       [13, 17, 18, 19, 16, 16],\n",
      "       [16, 17, 17, 17, 17, 17],\n",
      "       [16, 18, 18, 18, 18, 18],\n",
      "       [16, 19, 19, 19, 19, 19],\n",
      "       [21, 30, 20, 20, 20, 20],\n",
      "       [20, 22, 26, 21, 21, 21],\n",
      "       [21, 23, 22, 22, 22, 22],\n",
      "       [22, 24, 23, 23, 23, 23],\n",
      "       [23, 25, 24, 24, 24, 24],\n",
      "       [24, 25, 25, 25, 25, 25],\n",
      "       [21, 27, 26, 26, 26, 26],\n",
      "       [26, 28, 27, 27, 27, 27],\n",
      "       [27, 29, 28, 28, 28, 28],\n",
      "       [28, 29, 29, 29, 29, 29],\n",
      "       [20, 31, 30, 30, 30, 30],\n",
      "       [30, 32, 31, 31, 31, 31],\n",
      "       [31, 32, 32, 32, 32, 32],\n",
      "       [34, 33, 33, 33, 33, 33],\n",
      "       [33, 35, 34, 34, 34, 34],\n",
      "       [34, 36, 48, 48, 35, 35],\n",
      "       [35, 37, 36, 36, 36, 36],\n",
      "       [36, 38, 45, 37, 37, 37],\n",
      "       [37, 39, 38, 38, 38, 38],\n",
      "       [38, 40, 47, 39, 39, 39],\n",
      "       [39, 41, 45, 40, 40, 40],\n",
      "       [40, 42, 41, 41, 41, 41],\n",
      "       [41, 43, 46, 42, 42, 42],\n",
      "       [42, 44, 43, 43, 43, 43],\n",
      "       [43, 45, 44, 44, 44, 44],\n",
      "       [37, 40, 44, 45, 45, 45],\n",
      "       [42, 46, 46, 46, 46, 46],\n",
      "       [39, 47, 47, 47, 47, 47],\n",
      "       [35, 35, 48, 48, 48, 48],\n",
      "       [50, 49, 49, 49, 49, 49],\n",
      "       [49, 51, 55, 50, 50, 50],\n",
      "       [50, 52, 51, 51, 51, 51],\n",
      "       [51, 53, 52, 52, 52, 52],\n",
      "       [52, 54, 53, 53, 53, 53],\n",
      "       [53, 55, 54, 54, 54, 54],\n",
      "       [50, 54, 55, 55, 55, 55]]), 'tgt_bond': array([[ 1,  0,  0,  0,  0,  0],\n",
      "       [ 0,  2,  5,  1,  1,  1],\n",
      "       [ 1,  3,  2,  2,  2,  2],\n",
      "       [ 2,  4, 10,  3,  3,  3],\n",
      "       [ 3,  5,  4,  4,  4,  4],\n",
      "       [ 1,  4,  6,  5,  5,  5],\n",
      "       [ 5,  7,  9,  6,  6,  6],\n",
      "       [ 6,  8,  7,  7,  7,  7],\n",
      "       [ 7, 42,  8,  8,  8,  8],\n",
      "       [ 6,  9,  9,  9,  9,  9],\n",
      "       [ 3, 11, 15, 10, 10, 10],\n",
      "       [10, 12, 11, 11, 11, 11],\n",
      "       [11, 13, 12, 12, 12, 12],\n",
      "       [12, 14, 16, 13, 13, 13],\n",
      "       [13, 15, 14, 14, 14, 14],\n",
      "       [10, 14, 15, 15, 15, 15],\n",
      "       [13, 17, 18, 19, 16, 16],\n",
      "       [16, 17, 17, 17, 17, 17],\n",
      "       [16, 18, 18, 18, 18, 18],\n",
      "       [16, 19, 19, 19, 19, 19],\n",
      "       [ 0,  0,  0,  0,  0,  0],\n",
      "       [ 0,  0,  0,  0,  0,  0],\n",
      "       [ 0,  0,  0,  0,  0,  0],\n",
      "       [ 0,  0,  0,  0,  0,  0],\n",
      "       [ 0,  0,  0,  0,  0,  0],\n",
      "       [ 0,  0,  0,  0,  0,  0],\n",
      "       [ 0,  0,  0,  0,  0,  0],\n",
      "       [ 0,  0,  0,  0,  0,  0],\n",
      "       [ 0,  0,  0,  0,  0,  0],\n",
      "       [ 0,  0,  0,  0,  0,  0],\n",
      "       [ 0,  0,  0,  0,  0,  0],\n",
      "       [ 0,  0,  0,  0,  0,  0],\n",
      "       [ 0,  0,  0,  0,  0,  0],\n",
      "       [34, 33, 33, 33, 33, 33],\n",
      "       [33, 35, 34, 34, 34, 34],\n",
      "       [34, 36, 48, 48, 35, 35],\n",
      "       [35, 37, 36, 36, 36, 36],\n",
      "       [36, 38, 45, 37, 37, 37],\n",
      "       [37, 39, 38, 38, 38, 38],\n",
      "       [38, 40, 47, 39, 39, 39],\n",
      "       [39, 41, 45, 40, 40, 40],\n",
      "       [40, 42, 41, 41, 41, 41],\n",
      "       [ 8, 41, 43, 42, 42, 42],\n",
      "       [42, 44, 43, 43, 43, 43],\n",
      "       [43, 45, 44, 44, 44, 44],\n",
      "       [37, 40, 44, 45, 45, 45],\n",
      "       [ 0,  0,  0,  0,  0,  0],\n",
      "       [39, 47, 47, 47, 47, 47],\n",
      "       [35, 35, 48, 48, 48, 48],\n",
      "       [ 0,  0,  0,  0,  0,  0],\n",
      "       [ 0,  0,  0,  0,  0,  0],\n",
      "       [ 0,  0,  0,  0,  0,  0],\n",
      "       [ 0,  0,  0,  0,  0,  0],\n",
      "       [ 0,  0,  0,  0,  0,  0],\n",
      "       [ 0,  0,  0,  0,  0,  0],\n",
      "       [ 0,  0,  0,  0,  0,  0]]), 'src_charge': array([0, 0, 0, 0, 0, 0, 0, 0, 0, 0, 0, 0, 0, 0, 0, 0, 0, 0, 0, 0, 0, 0,\n",
      "       0, 0, 0, 0, 0, 0, 0, 0, 0, 0, 0, 0, 0, 0, 0, 0, 0, 0, 0, 0, 0, 0,\n",
      "       0, 0, 0, 0, 0, 0, 0, 0, 0, 0, 0, 0]), 'tgt_charge': array([0, 0, 0, 0, 0, 0, 0, 0, 0, 0, 0, 0, 0, 0, 0, 0, 0, 0, 0, 0, 0, 0,\n",
      "       0, 0, 0, 0, 0, 0, 0, 0, 0, 0, 0, 0, 0, 0, 0, 0, 0, 0, 0, 0, 0, 0,\n",
      "       0, 0, 0, 0, 0, 0, 0, 0, 0, 0, 0, 0]), 'src_aroma': array([0, 1, 1, 1, 1, 1, 0, 0, 0, 0, 1, 1, 1, 1, 1, 1, 0, 0, 0, 0, 0, 0,\n",
      "       0, 0, 0, 0, 0, 0, 0, 0, 0, 0, 0, 0, 0, 0, 0, 1, 1, 1, 1, 1, 1, 1,\n",
      "       1, 1, 0, 0, 0, 0, 1, 1, 1, 1, 1, 1]), 'tgt_aroma': array([0, 1, 1, 1, 1, 1, 0, 0, 0, 0, 1, 1, 1, 1, 1, 1, 0, 0, 0, 0, 0, 0,\n",
      "       0, 0, 0, 0, 0, 0, 0, 0, 0, 0, 0, 0, 0, 0, 0, 1, 1, 1, 1, 1, 1, 1,\n",
      "       1, 1, 0, 0, 0, 0, 0, 0, 0, 0, 0, 0]), 'src_mask': array([0, 0, 0, 0, 0, 0, 0, 0, 0, 0, 0, 0, 0, 0, 0, 0, 0, 0, 0, 0, 0, 0,\n",
      "       0, 0, 0, 0, 0, 0, 0, 0, 0, 0, 0, 0, 0, 0, 0, 0, 0, 0, 0, 0, 0, 0,\n",
      "       0, 0, 0, 0, 0, 0, 0, 0, 0, 0, 0, 0]), 'tgt_mask': array([0, 0, 0, 0, 0, 0, 0, 0, 0, 0, 0, 0, 0, 0, 0, 0, 0, 0, 0, 0, 1, 1,\n",
      "       1, 1, 1, 1, 1, 1, 1, 1, 1, 1, 1, 0, 0, 0, 0, 0, 0, 0, 0, 0, 0, 0,\n",
      "       0, 0, 1, 0, 0, 1, 1, 1, 1, 1, 1, 1]), 'src_segment': array([1, 1, 1, 1, 1, 1, 1, 1, 1, 1, 1, 1, 1, 1, 1, 1, 1, 1, 1, 1, 0, 0,\n",
      "       0, 0, 0, 0, 0, 0, 0, 0, 0, 0, 0, 2, 2, 2, 2, 2, 2, 2, 2, 2, 2, 2,\n",
      "       2, 2, 2, 2, 2, 3, 3, 3, 3, 3, 3, 3]), 'tgt_segment': array([0, 0, 0, 0, 0, 0, 0, 0, 0, 0, 0, 0, 0, 0, 0, 0, 0, 0, 0, 0, 0, 0,\n",
      "       0, 0, 0, 0, 0, 0, 0, 0, 0, 0, 0, 0, 0, 0, 0, 0, 0, 0, 0, 0, 0, 0,\n",
      "       0, 0, 0, 0, 0, 0, 0, 0, 0, 0, 0, 0]), 'reactant': array([1, 1, 1, 1, 1, 1, 1, 1, 1, 1, 1, 1, 1, 1, 1, 1, 1, 1, 1, 1, 0, 0,\n",
      "       0, 0, 0, 0, 0, 0, 0, 0, 0, 0, 0, 1, 1, 1, 1, 1, 1, 1, 1, 1, 1, 1,\n",
      "       1, 1, 1, 1, 1, 0, 0, 0, 0, 0, 0, 0])}]\n"
     ]
    }
   ],
   "source": [
    "import pickle\n",
    "\n",
    "def read_pickle_file(file_path):\n",
    "    with open(file_path, 'rb') as f:\n",
    "        data = pickle.load(f)\n",
    "    return data\n",
    "\n",
    "# 使用示例\n",
    "file_path = 'H:/NERF/data/USPTO/test_1_data.pickle'\n",
    "loaded_data = read_pickle_file(file_path)\n",
    "\n",
    "# 处理读取的数据\n",
    "print(loaded_data)\n"
   ],
   "metadata": {
    "collapsed": false,
    "ExecuteTime": {
     "end_time": "2023-08-10T15:01:04.333502400Z",
     "start_time": "2023-08-10T15:01:04.240223700Z"
    }
   }
  },
  {
   "cell_type": "markdown",
   "source": [],
   "metadata": {
    "collapsed": false
   }
  },
  {
   "cell_type": "code",
   "execution_count": 32,
   "outputs": [
    {
     "name": "stderr",
     "output_type": "stream",
     "text": [
      "H:\\NERF\\dataset.py:19: UserWarning: To copy construct from a tensor, it is recommended to use sourceTensor.clone().detach() or sourceTensor.clone().detach().requires_grad_(True), rather than torch.tensor(sourceTensor).\n",
      "  tmp = torch.tensor(feature_dict[key])\n"
     ]
    },
    {
     "data": {
      "text/plain": "<torch.utils.data.dataloader.DataLoader at 0x21b5b29daf0>"
     },
     "execution_count": 32,
     "metadata": {},
     "output_type": "execute_result"
    }
   ],
   "source": [
    "from dataset import TransformerDataset\n",
    "from torch.utils.data import DataLoader\n",
    "\n",
    "full_dataset = TransformerDataset(False, loaded_data)\n",
    "data_loader = DataLoader(full_dataset, batch_size=2,\n",
    "                         collate_fn = TransformerDataset.collate_fn)\n",
    "data_loader"
   ],
   "metadata": {
    "collapsed": false,
    "ExecuteTime": {
     "end_time": "2023-08-10T15:29:01.944823100Z",
     "start_time": "2023-08-10T15:29:01.926478200Z"
    }
   }
  },
  {
   "cell_type": "code",
   "execution_count": 30,
   "outputs": [
    {
     "name": "stdout",
     "output_type": "stream",
     "text": [
      "{'element': tensor([[ 9,  6,  6,  6,  6,  6,  6,  9,  9,  7,  8,  8,  7,  6, 16,  6,  6,  6,\n",
      "          6,  7, 11,  1,  6,  8,  6,  6,  6]]), 'src_bond': tensor([[[ 1,  0,  0,  0,  0,  0],\n",
      "         [ 0,  2,  6,  1,  1,  1],\n",
      "         [ 1,  3,  9,  2,  2,  2],\n",
      "         [ 2,  4,  3,  3,  3,  3],\n",
      "         [ 3,  5,  8,  4,  4,  4],\n",
      "         [ 4,  6,  7,  5,  5,  5],\n",
      "         [ 1,  5,  6,  6,  6,  6],\n",
      "         [ 5,  7,  7,  7,  7,  7],\n",
      "         [ 4,  8,  8,  8,  8,  8],\n",
      "         [ 2, 10, 10, 11,  9,  9],\n",
      "         [ 9,  9, 10, 10, 10, 10],\n",
      "         [ 9, 11, 11, 11, 11, 11],\n",
      "         [13, 12, 12, 12, 12, 12],\n",
      "         [12, 14, 17, 13, 13, 13],\n",
      "         [13, 15, 14, 14, 14, 14],\n",
      "         [14, 16, 15, 15, 15, 15],\n",
      "         [15, 17, 16, 16, 16, 16],\n",
      "         [13, 16, 18, 17, 17, 17],\n",
      "         [17, 19, 19, 19, 18, 18],\n",
      "         [18, 18, 18, 19, 19, 19],\n",
      "         [20, 20, 20, 20, 20, 20],\n",
      "         [21, 21, 21, 21, 21, 21],\n",
      "         [23, 26, 22, 22, 22, 22],\n",
      "         [22, 24, 23, 23, 23, 23],\n",
      "         [23, 25, 24, 24, 24, 24],\n",
      "         [24, 26, 25, 25, 25, 25],\n",
      "         [22, 25, 26, 26, 26, 26]]]), 'tgt_bond': tensor([[[ 0,  0,  0,  0,  0,  0],\n",
      "         [ 2,  6, 12,  1,  1,  1],\n",
      "         [ 1,  3,  9,  2,  2,  2],\n",
      "         [ 2,  4,  3,  3,  3,  3],\n",
      "         [ 3,  5,  8,  4,  4,  4],\n",
      "         [ 4,  6,  7,  5,  5,  5],\n",
      "         [ 1,  5,  6,  6,  6,  6],\n",
      "         [ 5,  7,  7,  7,  7,  7],\n",
      "         [ 4,  8,  8,  8,  8,  8],\n",
      "         [ 2, 10, 10, 11,  9,  9],\n",
      "         [ 9,  9, 10, 10, 10, 10],\n",
      "         [ 9, 11, 11, 11, 11, 11],\n",
      "         [ 1, 13, 12, 12, 12, 12],\n",
      "         [12, 14, 17, 13, 13, 13],\n",
      "         [13, 15, 14, 14, 14, 14],\n",
      "         [14, 16, 15, 15, 15, 15],\n",
      "         [15, 17, 16, 16, 16, 16],\n",
      "         [13, 16, 18, 17, 17, 17],\n",
      "         [17, 19, 19, 19, 18, 18],\n",
      "         [18, 18, 18, 19, 19, 19],\n",
      "         [ 0,  0,  0,  0,  0,  0],\n",
      "         [ 0,  0,  0,  0,  0,  0],\n",
      "         [ 0,  0,  0,  0,  0,  0],\n",
      "         [ 0,  0,  0,  0,  0,  0],\n",
      "         [ 0,  0,  0,  0,  0,  0],\n",
      "         [ 0,  0,  0,  0,  0,  0],\n",
      "         [ 0,  0,  0,  0,  0,  0]]]), 'src_charge': tensor([[ 0,  0,  0,  0,  0,  0,  0,  0,  0,  1,  0, -1,  0,  0,  0,  0,  0,  0,\n",
      "          0,  0,  1, -1,  0,  0,  0,  0,  0]]), 'tgt_charge': tensor([[ 0,  0,  0,  0,  0,  0,  0,  0,  0,  1,  0, -1,  0,  0,  0,  0,  0,  0,\n",
      "          0,  0,  0,  0,  0,  0,  0,  0,  0]]), 'src_aroma': tensor([[False,  True,  True,  True,  True,  True,  True, False, False, False,\n",
      "         False, False, False,  True,  True,  True,  True,  True, False, False,\n",
      "         False, False, False, False, False, False, False]]), 'tgt_aroma': tensor([[False,  True,  True,  True,  True,  True,  True, False, False, False,\n",
      "         False, False, False,  True,  True,  True,  True,  True, False, False,\n",
      "         False, False, False, False, False, False, False]]), 'src_mask': tensor([[False, False, False, False, False, False, False, False, False, False,\n",
      "         False, False, False, False, False, False, False, False, False, False,\n",
      "         False, False, False, False, False, False, False]]), 'tgt_mask': tensor([[ True, False, False, False, False, False, False, False, False, False,\n",
      "         False, False, False, False, False, False, False, False, False, False,\n",
      "          True,  True,  True,  True,  True,  True,  True]]), 'src_segment': tensor([[1, 1, 1, 1, 1, 1, 1, 1, 1, 1, 1, 1, 3, 3, 3, 3, 3, 3, 3, 3, 4, 2, 0, 0,\n",
      "         0, 0, 0]]), 'tgt_segment': tensor([[0, 0, 0, 0, 0, 0, 0, 0, 0, 0, 0, 0, 0, 0, 0, 0, 0, 0, 0, 0, 0, 0, 0, 0,\n",
      "         0, 0, 0]]), 'reactant': tensor([[1, 1, 1, 1, 1, 1, 1, 1, 1, 1, 1, 1, 1, 1, 1, 1, 1, 1, 1, 1, 0, 0, 0, 0,\n",
      "         0, 0, 0]])}\n"
     ]
    }
   ],
   "source": [
    "c = 0\n",
    "for batch in data_loader:\n",
    "    if c == 0:    print(batch)\n",
    "    c+= 1"
   ],
   "metadata": {
    "collapsed": false,
    "ExecuteTime": {
     "end_time": "2023-08-10T15:28:10.844309900Z",
     "start_time": "2023-08-10T15:28:10.836639600Z"
    }
   }
  },
  {
   "cell_type": "code",
   "execution_count": 27,
   "outputs": [
    {
     "name": "stderr",
     "output_type": "stream",
     "text": [
      "100%|██████████| 2/2 [00:00<00:00, 1001.03it/s]"
     ]
    },
    {
     "name": "stdout",
     "output_type": "stream",
     "text": [
      "tensor([[ 9,  6,  6,  6,  6,  6,  6,  9,  9,  7,  8,  8,  7,  6, 16,  6,  6,  6,\n",
      "          6,  7, 11,  1,  6,  8,  6,  6,  6]])\n",
      "tensor([[ 6,  6,  7,  7,  6,  6,  6,  6,  8,  6,  6,  6,  6,  6,  6,  6,  6,  9,\n",
      "          9,  9,  6, 15,  6,  6,  6,  6,  6,  6,  6,  6,  6,  6,  6,  6,  8,  6,\n",
      "          6,  6,  6,  7,  6,  6,  6,  6,  6,  6,  8,  6,  8,  6,  6,  6,  6,  6,\n",
      "          6,  6]])\n"
     ]
    },
    {
     "name": "stderr",
     "output_type": "stream",
     "text": [
      "\n"
     ]
    }
   ],
   "source": [
    "from tqdm import tqdm\n",
    "pbar = tqdm(data_loader)\n",
    "for batch in iter(pbar):\n",
    "    print(batch['element'].to('cpu'))"
   ],
   "metadata": {
    "collapsed": false,
    "ExecuteTime": {
     "end_time": "2023-08-10T15:24:50.160116200Z",
     "start_time": "2023-08-10T15:24:50.147526700Z"
    }
   }
  },
  {
   "cell_type": "code",
   "execution_count": 11,
   "outputs": [
    {
     "data": {
      "text/plain": "array([ 9,  6,  6,  6,  6,  6,  6,  9,  9,  7,  8,  8,  7,  6, 16,  6,  6,\n        6,  6,  7, 11,  1,  6,  8,  6,  6,  6])"
     },
     "execution_count": 11,
     "metadata": {},
     "output_type": "execute_result"
    }
   ],
   "source": [
    "loaded_data[0]['element']"
   ],
   "metadata": {
    "collapsed": false,
    "ExecuteTime": {
     "end_time": "2023-08-10T15:03:09.562605100Z",
     "start_time": "2023-08-10T15:03:09.554096700Z"
    }
   }
  },
  {
   "cell_type": "code",
   "execution_count": 31,
   "outputs": [
    {
     "data": {
      "text/plain": "array([0, 0, 0, 0, 0, 0, 0, 0, 0, 0, 0, 0, 0, 0, 0, 0, 0, 0, 0, 0, 0, 0,\n       0, 0, 0, 0, 0, 0, 0])"
     },
     "execution_count": 31,
     "metadata": {},
     "output_type": "execute_result"
    }
   ],
   "source": [
    "# [CH3:18][CH2:19][O:20][C:21](=[O:22])[Cl:23].[CH3:1][O:2][c:3]1[cH:4][c:5]2[n:6][c:7]([NH2:8])[c:9]([O:10][CH3:11])[n:12][c:13]2[cH:14][c:15]1[O:16][CH3:17].[cH:24]1[cH:25][cH:26][n:27][cH:28][cH:29]\n",
    "loaded_data[0]['src_charge']"
   ],
   "metadata": {
    "collapsed": false,
    "ExecuteTime": {
     "end_time": "2023-08-04T20:03:40.507753900Z",
     "start_time": "2023-08-04T20:03:40.488050Z"
    }
   }
  },
  {
   "cell_type": "code",
   "execution_count": 18,
   "outputs": [
    {
     "name": "stdout",
     "output_type": "stream",
     "text": [
      "[CH3:18][CH2:19][O:20][C:21](=[O:22])[Cl:23].[CH3:1][O:2][c:3]1[cH:4][c:5]2[n:6][c:7]([NH2:8])[c:9]([O:10][CH3:11])[n:12][c:13]2[cH:14][c:15]1[O:16][CH3:17].[cH:24]1[cH:25][cH:26][n:27][cH:28][cH:29]1\n",
      "CCOC(=O)Nc1nc2cc(OC)c(OC)cc2nc1OC\n"
     ]
    }
   ],
   "source": [
    "import re\n",
    "line = \"[CH3:18][CH2:19][O:20][C:21](=[O:22])[Cl:23].[CH3:1][O:2][c:3]1[cH:4][c:5]2[n:6][c:7]([NH2:8])[c:9]([O:10][CH3:11])[n:12][c:13]2[cH:14][c:15]1[O:16][CH3:17].[cH:24]1[cH:25][cH:26][n:27][cH:28][cH:29]1>>CCOC(=O)Nc1nc2cc(OC)c(OC)cc2nc1OC 8;;21-23-1.0;21-8-1.0\"\n",
    "rxn = line.split()[0].split(\">>\")\n",
    "src = rxn[0]\n",
    "tgt = rxn[1]\n",
    "\n",
    "print(src)\n",
    "print(tgt)"
   ],
   "metadata": {
    "collapsed": false,
    "ExecuteTime": {
     "end_time": "2023-08-04T19:43:48.504070200Z",
     "start_time": "2023-08-04T19:43:48.499589400Z"
    }
   }
  },
  {
   "cell_type": "code",
   "execution_count": 19,
   "outputs": [
    {
     "data": {
      "text/plain": "[]"
     },
     "execution_count": 19,
     "metadata": {},
     "output_type": "execute_result"
    }
   ],
   "source": [
    "pattern = re.compile(\":(\\d+)\\]\")\n",
    "pattern.findall(tgt)"
   ],
   "metadata": {
    "collapsed": false,
    "ExecuteTime": {
     "end_time": "2023-08-04T19:44:29.352841600Z",
     "start_time": "2023-08-04T19:44:29.349418200Z"
    }
   }
  },
  {
   "cell_type": "code",
   "execution_count": 21,
   "outputs": [
    {
     "data": {
      "text/plain": "[<rdkit.Chem.rdchem.Mol at 0x25d0e0745f0>,\n <rdkit.Chem.rdchem.Mol at 0x25d0e074660>,\n <rdkit.Chem.rdchem.Mol at 0x25d0e074510>]"
     },
     "execution_count": 21,
     "metadata": {},
     "output_type": "execute_result"
    }
   ],
   "source": [
    "from rdkit import Chem\n",
    "src_mols = src.split('.')\n",
    "src_mols = [Chem.MolFromSmiles(item) for item in src_mols]\n",
    "src_mols"
   ],
   "metadata": {
    "collapsed": false,
    "ExecuteTime": {
     "end_time": "2023-08-04T19:46:55.687121500Z",
     "start_time": "2023-08-04T19:46:55.525419Z"
    }
   }
  },
  {
   "cell_type": "code",
   "execution_count": 22,
   "outputs": [
    {
     "data": {
      "text/plain": "[<rdkit.Chem.rdchem.Mol at 0x25d0e0749e0>]"
     },
     "execution_count": 22,
     "metadata": {},
     "output_type": "execute_result"
    }
   ],
   "source": [
    "tgt_mols = [Chem.MolFromSmiles(item) for item in tgt.split(\".\")]\n",
    "tgt_mols"
   ],
   "metadata": {
    "collapsed": false,
    "ExecuteTime": {
     "end_time": "2023-08-04T19:47:13.939181100Z",
     "start_time": "2023-08-04T19:47:13.924778200Z"
    }
   }
  },
  {
   "cell_type": "code",
   "execution_count": 24,
   "outputs": [
    {
     "name": "stdout",
     "output_type": "stream",
     "text": [
      "18\n",
      "17 18\n",
      "----------\n",
      "19\n",
      "17 19\n",
      "----------\n",
      "20\n",
      "17 20\n",
      "----------\n",
      "21\n",
      "17 21\n",
      "----------\n",
      "22\n",
      "17 22\n",
      "----------\n",
      "23\n",
      "17 23\n",
      "----------\n",
      "1\n",
      "0 1\n",
      "----------\n",
      "2\n",
      "0 2\n",
      "----------\n",
      "3\n",
      "0 3\n",
      "----------\n",
      "4\n",
      "0 4\n",
      "----------\n",
      "5\n",
      "0 5\n",
      "----------\n",
      "6\n",
      "0 6\n",
      "----------\n",
      "7\n",
      "0 7\n",
      "----------\n",
      "8\n",
      "0 8\n",
      "----------\n",
      "9\n",
      "0 9\n",
      "----------\n",
      "10\n",
      "0 10\n",
      "----------\n",
      "11\n",
      "0 11\n",
      "----------\n",
      "12\n",
      "0 12\n",
      "----------\n",
      "13\n",
      "0 13\n",
      "----------\n",
      "14\n",
      "0 14\n",
      "----------\n",
      "15\n",
      "0 15\n",
      "----------\n",
      "16\n",
      "0 16\n",
      "----------\n",
      "17\n",
      "0 17\n",
      "----------\n",
      "24\n",
      "23 24\n",
      "----------\n",
      "25\n",
      "23 25\n",
      "----------\n",
      "26\n",
      "23 26\n",
      "----------\n",
      "27\n",
      "23 27\n",
      "----------\n",
      "28\n",
      "23 28\n",
      "----------\n",
      "29\n",
      "23 29\n",
      "----------\n"
     ]
    }
   ],
   "source": [
    "ranges = []\n",
    "for mol in src_mols:\n",
    "    lower = 999\n",
    "    upper = 0\n",
    "    for atom in mol.GetAtoms():\n",
    "        print(atom.GetAtomMapNum())\n",
    "        lower = min(lower, atom.GetAtomMapNum()-1)\n",
    "        upper = max(upper, atom.GetAtomMapNum())\n",
    "        print(lower, upper)\n",
    "        print('-'*10)\n",
    "    ranges.append((lower, upper))"
   ],
   "metadata": {
    "collapsed": false,
    "ExecuteTime": {
     "end_time": "2023-08-04T19:50:13.331337Z",
     "start_time": "2023-08-04T19:50:13.315403300Z"
    }
   }
  },
  {
   "cell_type": "code",
   "execution_count": 26,
   "outputs": [
    {
     "data": {
      "text/plain": "[(17, 23), (0, 17), (23, 29)]"
     },
     "execution_count": 26,
     "metadata": {},
     "output_type": "execute_result"
    }
   ],
   "source": [
    "ranges"
   ],
   "metadata": {
    "collapsed": false,
    "ExecuteTime": {
     "end_time": "2023-08-04T19:51:28.186414600Z",
     "start_time": "2023-08-04T19:51:28.183342100Z"
    }
   }
  },
  {
   "cell_type": "code",
   "execution_count": 40,
   "outputs": [
    {
     "data": {
      "text/plain": "<rdkit.Chem.rdchem.Atom at 0x25d0e21a4a0>"
     },
     "execution_count": 40,
     "metadata": {},
     "output_type": "execute_result"
    }
   ],
   "source": [
    "atom"
   ],
   "metadata": {
    "collapsed": false,
    "ExecuteTime": {
     "end_time": "2023-08-04T20:16:23.192443600Z",
     "start_time": "2023-08-04T20:16:23.187718500Z"
    }
   }
  },
  {
   "cell_type": "code",
   "execution_count": 43,
   "outputs": [
    {
     "name": "stdout",
     "output_type": "stream",
     "text": [
      "0 3 4\n",
      "3\n",
      "DOUBLE\n"
     ]
    }
   ],
   "source": [
    "# Atom: [CH3:18][CH2:19][O:20][C:21](=[O:22])[Cl:23]\n",
    "atom = src_mols[0].GetAtoms()[4]\n",
    "for j,b in enumerate(atom.GetBonds()):\n",
    "    print(j, b.GetBeginAtomIdx(), b.GetEndAtomIdx())\n",
    "    print(b.GetBeginAtomIdx() + b.GetEndAtomIdx() - atom.GetIdx())\n",
    "    print(b.GetBondType())"
   ],
   "metadata": {
    "collapsed": false,
    "ExecuteTime": {
     "end_time": "2023-08-04T20:18:25.180106300Z",
     "start_time": "2023-08-04T20:18:25.172274500Z"
    }
   }
  },
  {
   "cell_type": "code",
   "execution_count": 12,
   "outputs": [],
   "source": [
    "def remove_lines_after_n(filename, n):\n",
    "    with open(filename, 'r') as file:\n",
    "        lines = file.readlines()\n",
    "\n",
    "    # 保留前n行\n",
    "    new_lines = lines[:n]\n",
    "\n",
    "    with open(filename, 'w') as file:\n",
    "        file.writelines(new_lines)\n",
    "\n",
    "# 调用函数来删除第二行之后的所有内容\n",
    "file_path = 'data/USPTO/test_1.txt'  # 将文件路径替换为你的文件路径\n",
    "remove_lines_after_n(file_path, 2)\n"
   ],
   "metadata": {
    "collapsed": false,
    "ExecuteTime": {
     "end_time": "2023-08-10T15:13:57.792282600Z",
     "start_time": "2023-08-10T15:13:57.787272400Z"
    }
   }
  },
  {
   "cell_type": "code",
   "execution_count": 13,
   "outputs": [
    {
     "ename": "RuntimeError",
     "evalue": "each element in list of batch should be of equal size",
     "output_type": "error",
     "traceback": [
      "\u001B[1;31m---------------------------------------------------------------------------\u001B[0m",
      "\u001B[1;31mRuntimeError\u001B[0m                              Traceback (most recent call last)",
      "Cell \u001B[1;32mIn[13], line 23\u001B[0m\n\u001B[0;32m     20\u001B[0m dataset \u001B[38;5;241m=\u001B[39m CustomDataset(data)\n\u001B[0;32m     21\u001B[0m dataloader \u001B[38;5;241m=\u001B[39m DataLoader(dataset, batch_size\u001B[38;5;241m=\u001B[39m\u001B[38;5;241m2\u001B[39m, shuffle\u001B[38;5;241m=\u001B[39m\u001B[38;5;28;01mTrue\u001B[39;00m)\n\u001B[1;32m---> 23\u001B[0m \u001B[38;5;28;01mfor\u001B[39;00m batch \u001B[38;5;129;01min\u001B[39;00m dataloader:\n\u001B[0;32m     24\u001B[0m     padded_batch \u001B[38;5;241m=\u001B[39m torch\u001B[38;5;241m.\u001B[39mnn\u001B[38;5;241m.\u001B[39mutils\u001B[38;5;241m.\u001B[39mrnn\u001B[38;5;241m.\u001B[39mpad_sequence(batch, batch_first\u001B[38;5;241m=\u001B[39m\u001B[38;5;28;01mTrue\u001B[39;00m, padding_value\u001B[38;5;241m=\u001B[39m\u001B[38;5;241m0\u001B[39m)\n\u001B[0;32m     25\u001B[0m     \u001B[38;5;28mprint\u001B[39m(\u001B[38;5;124m\"\u001B[39m\u001B[38;5;124m原始batch：\u001B[39m\u001B[38;5;124m\"\u001B[39m, batch)\n",
      "File \u001B[1;32mF:\\Anaconda\\envs\\nerf\\lib\\site-packages\\torch\\utils\\data\\dataloader.py:633\u001B[0m, in \u001B[0;36m_BaseDataLoaderIter.__next__\u001B[1;34m(self)\u001B[0m\n\u001B[0;32m    630\u001B[0m \u001B[38;5;28;01mif\u001B[39;00m \u001B[38;5;28mself\u001B[39m\u001B[38;5;241m.\u001B[39m_sampler_iter \u001B[38;5;129;01mis\u001B[39;00m \u001B[38;5;28;01mNone\u001B[39;00m:\n\u001B[0;32m    631\u001B[0m     \u001B[38;5;66;03m# TODO(https://github.com/pytorch/pytorch/issues/76750)\u001B[39;00m\n\u001B[0;32m    632\u001B[0m     \u001B[38;5;28mself\u001B[39m\u001B[38;5;241m.\u001B[39m_reset()  \u001B[38;5;66;03m# type: ignore[call-arg]\u001B[39;00m\n\u001B[1;32m--> 633\u001B[0m data \u001B[38;5;241m=\u001B[39m \u001B[38;5;28;43mself\u001B[39;49m\u001B[38;5;241;43m.\u001B[39;49m\u001B[43m_next_data\u001B[49m\u001B[43m(\u001B[49m\u001B[43m)\u001B[49m\n\u001B[0;32m    634\u001B[0m \u001B[38;5;28mself\u001B[39m\u001B[38;5;241m.\u001B[39m_num_yielded \u001B[38;5;241m+\u001B[39m\u001B[38;5;241m=\u001B[39m \u001B[38;5;241m1\u001B[39m\n\u001B[0;32m    635\u001B[0m \u001B[38;5;28;01mif\u001B[39;00m \u001B[38;5;28mself\u001B[39m\u001B[38;5;241m.\u001B[39m_dataset_kind \u001B[38;5;241m==\u001B[39m _DatasetKind\u001B[38;5;241m.\u001B[39mIterable \u001B[38;5;129;01mand\u001B[39;00m \\\n\u001B[0;32m    636\u001B[0m         \u001B[38;5;28mself\u001B[39m\u001B[38;5;241m.\u001B[39m_IterableDataset_len_called \u001B[38;5;129;01mis\u001B[39;00m \u001B[38;5;129;01mnot\u001B[39;00m \u001B[38;5;28;01mNone\u001B[39;00m \u001B[38;5;129;01mand\u001B[39;00m \\\n\u001B[0;32m    637\u001B[0m         \u001B[38;5;28mself\u001B[39m\u001B[38;5;241m.\u001B[39m_num_yielded \u001B[38;5;241m>\u001B[39m \u001B[38;5;28mself\u001B[39m\u001B[38;5;241m.\u001B[39m_IterableDataset_len_called:\n",
      "File \u001B[1;32mF:\\Anaconda\\envs\\nerf\\lib\\site-packages\\torch\\utils\\data\\dataloader.py:677\u001B[0m, in \u001B[0;36m_SingleProcessDataLoaderIter._next_data\u001B[1;34m(self)\u001B[0m\n\u001B[0;32m    675\u001B[0m \u001B[38;5;28;01mdef\u001B[39;00m \u001B[38;5;21m_next_data\u001B[39m(\u001B[38;5;28mself\u001B[39m):\n\u001B[0;32m    676\u001B[0m     index \u001B[38;5;241m=\u001B[39m \u001B[38;5;28mself\u001B[39m\u001B[38;5;241m.\u001B[39m_next_index()  \u001B[38;5;66;03m# may raise StopIteration\u001B[39;00m\n\u001B[1;32m--> 677\u001B[0m     data \u001B[38;5;241m=\u001B[39m \u001B[38;5;28;43mself\u001B[39;49m\u001B[38;5;241;43m.\u001B[39;49m\u001B[43m_dataset_fetcher\u001B[49m\u001B[38;5;241;43m.\u001B[39;49m\u001B[43mfetch\u001B[49m\u001B[43m(\u001B[49m\u001B[43mindex\u001B[49m\u001B[43m)\u001B[49m  \u001B[38;5;66;03m# may raise StopIteration\u001B[39;00m\n\u001B[0;32m    678\u001B[0m     \u001B[38;5;28;01mif\u001B[39;00m \u001B[38;5;28mself\u001B[39m\u001B[38;5;241m.\u001B[39m_pin_memory:\n\u001B[0;32m    679\u001B[0m         data \u001B[38;5;241m=\u001B[39m _utils\u001B[38;5;241m.\u001B[39mpin_memory\u001B[38;5;241m.\u001B[39mpin_memory(data, \u001B[38;5;28mself\u001B[39m\u001B[38;5;241m.\u001B[39m_pin_memory_device)\n",
      "File \u001B[1;32mF:\\Anaconda\\envs\\nerf\\lib\\site-packages\\torch\\utils\\data\\_utils\\fetch.py:54\u001B[0m, in \u001B[0;36m_MapDatasetFetcher.fetch\u001B[1;34m(self, possibly_batched_index)\u001B[0m\n\u001B[0;32m     52\u001B[0m \u001B[38;5;28;01melse\u001B[39;00m:\n\u001B[0;32m     53\u001B[0m     data \u001B[38;5;241m=\u001B[39m \u001B[38;5;28mself\u001B[39m\u001B[38;5;241m.\u001B[39mdataset[possibly_batched_index]\n\u001B[1;32m---> 54\u001B[0m \u001B[38;5;28;01mreturn\u001B[39;00m \u001B[38;5;28;43mself\u001B[39;49m\u001B[38;5;241;43m.\u001B[39;49m\u001B[43mcollate_fn\u001B[49m\u001B[43m(\u001B[49m\u001B[43mdata\u001B[49m\u001B[43m)\u001B[49m\n",
      "File \u001B[1;32mF:\\Anaconda\\envs\\nerf\\lib\\site-packages\\torch\\utils\\data\\_utils\\collate.py:265\u001B[0m, in \u001B[0;36mdefault_collate\u001B[1;34m(batch)\u001B[0m\n\u001B[0;32m    204\u001B[0m \u001B[38;5;28;01mdef\u001B[39;00m \u001B[38;5;21mdefault_collate\u001B[39m(batch):\n\u001B[0;32m    205\u001B[0m \u001B[38;5;250m    \u001B[39m\u001B[38;5;124mr\u001B[39m\u001B[38;5;124;03m\"\"\"\u001B[39;00m\n\u001B[0;32m    206\u001B[0m \u001B[38;5;124;03m        Function that takes in a batch of data and puts the elements within the batch\u001B[39;00m\n\u001B[0;32m    207\u001B[0m \u001B[38;5;124;03m        into a tensor with an additional outer dimension - batch size. The exact output type can be\u001B[39;00m\n\u001B[1;32m   (...)\u001B[0m\n\u001B[0;32m    263\u001B[0m \u001B[38;5;124;03m            >>> default_collate(batch)  # Handle `CustomType` automatically\u001B[39;00m\n\u001B[0;32m    264\u001B[0m \u001B[38;5;124;03m    \"\"\"\u001B[39;00m\n\u001B[1;32m--> 265\u001B[0m     \u001B[38;5;28;01mreturn\u001B[39;00m \u001B[43mcollate\u001B[49m\u001B[43m(\u001B[49m\u001B[43mbatch\u001B[49m\u001B[43m,\u001B[49m\u001B[43m \u001B[49m\u001B[43mcollate_fn_map\u001B[49m\u001B[38;5;241;43m=\u001B[39;49m\u001B[43mdefault_collate_fn_map\u001B[49m\u001B[43m)\u001B[49m\n",
      "File \u001B[1;32mF:\\Anaconda\\envs\\nerf\\lib\\site-packages\\torch\\utils\\data\\_utils\\collate.py:138\u001B[0m, in \u001B[0;36mcollate\u001B[1;34m(batch, collate_fn_map)\u001B[0m\n\u001B[0;32m    136\u001B[0m elem_size \u001B[38;5;241m=\u001B[39m \u001B[38;5;28mlen\u001B[39m(\u001B[38;5;28mnext\u001B[39m(it))\n\u001B[0;32m    137\u001B[0m \u001B[38;5;28;01mif\u001B[39;00m \u001B[38;5;129;01mnot\u001B[39;00m \u001B[38;5;28mall\u001B[39m(\u001B[38;5;28mlen\u001B[39m(elem) \u001B[38;5;241m==\u001B[39m elem_size \u001B[38;5;28;01mfor\u001B[39;00m elem \u001B[38;5;129;01min\u001B[39;00m it):\n\u001B[1;32m--> 138\u001B[0m     \u001B[38;5;28;01mraise\u001B[39;00m \u001B[38;5;167;01mRuntimeError\u001B[39;00m(\u001B[38;5;124m'\u001B[39m\u001B[38;5;124meach element in list of batch should be of equal size\u001B[39m\u001B[38;5;124m'\u001B[39m)\n\u001B[0;32m    139\u001B[0m transposed \u001B[38;5;241m=\u001B[39m \u001B[38;5;28mlist\u001B[39m(\u001B[38;5;28mzip\u001B[39m(\u001B[38;5;241m*\u001B[39mbatch))  \u001B[38;5;66;03m# It may be accessed twice, so we use a list.\u001B[39;00m\n\u001B[0;32m    141\u001B[0m \u001B[38;5;28;01mif\u001B[39;00m \u001B[38;5;28misinstance\u001B[39m(elem, \u001B[38;5;28mtuple\u001B[39m):\n",
      "\u001B[1;31mRuntimeError\u001B[0m: each element in list of batch should be of equal size"
     ]
    }
   ],
   "source": [
    "import torch\n",
    "from torch.utils.data import Dataset, DataLoader\n",
    "\n",
    "class CustomDataset(Dataset):\n",
    "    def __init__(self, data):\n",
    "        self.data = data\n",
    "\n",
    "    def __len__(self):\n",
    "        return len(self.data)\n",
    "\n",
    "    def __getitem__(self, idx):\n",
    "        return self.data[idx]\n",
    "\n",
    "# 假设有两个句子的数据\n",
    "data = [\n",
    "    [1, 2, 3, 4, 5, 6, 7, 8, 9, 10, 11, 12, 13, 14, 15, 16, 17, 18, 19, 20],\n",
    "    [1, 2, 3, 4, 5, 6, 7, 8, 9, 10, 11, 12, 13, 14, 15, 16, 17, 18, 19, 20, 21, 22, 23, 24, 25, 26, 27, 28, 29, 30]\n",
    "]\n",
    "\n",
    "dataset = CustomDataset(data)\n",
    "dataloader = DataLoader(dataset, batch_size=2, shuffle=True)\n",
    "\n",
    "for batch in dataloader:\n",
    "    padded_batch = torch.nn.utils.rnn.pad_sequence(batch, batch_first=True, padding_value=0)\n",
    "    print(\"原始batch：\", batch)\n",
    "    print(\"填充后的batch：\", padded_batch)\n",
    "    print(\"\\n\")\n"
   ],
   "metadata": {
    "collapsed": false,
    "ExecuteTime": {
     "end_time": "2023-08-10T15:14:03.416940300Z",
     "start_time": "2023-08-10T15:13:59.035926300Z"
    }
   }
  },
  {
   "cell_type": "code",
   "execution_count": null,
   "outputs": [],
   "source": [],
   "metadata": {
    "collapsed": false,
    "is_executing": true
   }
  }
 ],
 "metadata": {
  "kernelspec": {
   "display_name": "Python 3",
   "language": "python",
   "name": "python3"
  },
  "language_info": {
   "codemirror_mode": {
    "name": "ipython",
    "version": 2
   },
   "file_extension": ".py",
   "mimetype": "text/x-python",
   "name": "python",
   "nbconvert_exporter": "python",
   "pygments_lexer": "ipython2",
   "version": "2.7.6"
  }
 },
 "nbformat": 4,
 "nbformat_minor": 0
}
