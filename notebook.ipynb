{
 "cells": [
  {
   "cell_type": "code",
   "execution_count": 10,
   "outputs": [
    {
     "name": "stdout",
     "output_type": "stream",
     "text": [
      "[{'element': array([ 6,  8,  6,  6,  6,  7,  6,  7,  6,  8,  6,  7,  6,  6,  6,  8,  6,\n",
      "        6,  6,  8,  6,  8, 17,  6,  6,  6,  7,  6,  6]), 'src_bond': array([[ 1,  0,  0,  0,  0,  0],\n",
      "       [ 0,  2,  1,  1,  1,  1],\n",
      "       [ 1,  3, 14,  2,  2,  2],\n",
      "       [ 2,  4,  3,  3,  3,  3],\n",
      "       [ 3,  5, 12,  4,  4,  4],\n",
      "       [ 4,  6,  5,  5,  5,  5],\n",
      "       [ 5,  7,  8,  6,  6,  6],\n",
      "       [ 6,  7,  7,  7,  7,  7],\n",
      "       [ 6,  9, 11,  8,  8,  8],\n",
      "       [ 8, 10,  9,  9,  9,  9],\n",
      "       [ 9, 10, 10, 10, 10, 10],\n",
      "       [ 8, 12, 11, 11, 11, 11],\n",
      "       [ 4, 11, 13, 12, 12, 12],\n",
      "       [12, 14, 13, 13, 13, 13],\n",
      "       [ 2, 13, 15, 14, 14, 14],\n",
      "       [14, 16, 15, 15, 15, 15],\n",
      "       [15, 16, 16, 16, 16, 16],\n",
      "       [18, 17, 17, 17, 17, 17],\n",
      "       [17, 19, 18, 18, 18, 18],\n",
      "       [18, 20, 19, 19, 19, 19],\n",
      "       [19, 21, 21, 22, 20, 20],\n",
      "       [20, 20, 21, 21, 21, 21],\n",
      "       [20, 22, 22, 22, 22, 22],\n",
      "       [24, 28, 23, 23, 23, 23],\n",
      "       [23, 25, 24, 24, 24, 24],\n",
      "       [24, 26, 25, 25, 25, 25],\n",
      "       [25, 27, 26, 26, 26, 26],\n",
      "       [26, 28, 27, 27, 27, 27],\n",
      "       [23, 27, 28, 28, 28, 28]]), 'tgt_bond': array([[ 0,  0,  0,  0,  0,  0],\n",
      "       [ 0,  0,  0,  0,  0,  0],\n",
      "       [ 0,  0,  0,  0,  0,  0],\n",
      "       [ 0,  0,  0,  0,  0,  0],\n",
      "       [ 0,  0,  0,  0,  0,  0],\n",
      "       [ 0,  0,  0,  0,  0,  0],\n",
      "       [ 0,  0,  0,  0,  0,  0],\n",
      "       [ 0,  0,  0,  0,  0,  0],\n",
      "       [ 0,  0,  0,  0,  0,  0],\n",
      "       [ 0,  0,  0,  0,  0,  0],\n",
      "       [ 0,  0,  0,  0,  0,  0],\n",
      "       [ 0,  0,  0,  0,  0,  0],\n",
      "       [ 0,  0,  0,  0,  0,  0],\n",
      "       [ 0,  0,  0,  0,  0,  0],\n",
      "       [ 0,  0,  0,  0,  0,  0],\n",
      "       [ 0,  0,  0,  0,  0,  0],\n",
      "       [ 0,  0,  0,  0,  0,  0],\n",
      "       [ 0,  0,  0,  0,  0,  0],\n",
      "       [ 0,  0,  0,  0,  0,  0],\n",
      "       [ 0,  0,  0,  0,  0,  0],\n",
      "       [ 0,  0,  0,  0,  0,  0],\n",
      "       [ 0,  0,  0,  0,  0,  0],\n",
      "       [ 0,  0,  0,  0,  0,  0],\n",
      "       [ 0,  0,  0,  0,  0,  0],\n",
      "       [ 0,  0,  0,  0,  0,  0],\n",
      "       [ 0,  0,  0,  0,  0,  0],\n",
      "       [ 0,  0,  0,  0,  0,  0],\n",
      "       [ 0,  0,  0,  0,  0,  0],\n",
      "       [-1, -1, -1, -1, -1, -1]]), 'src_charge': array([0, 0, 0, 0, 0, 0, 0, 0, 0, 0, 0, 0, 0, 0, 0, 0, 0, 0, 0, 0, 0, 0,\n",
      "       0, 0, 0, 0, 0, 0, 0]), 'tgt_charge': array([0, 0, 0, 0, 0, 0, 0, 0, 0, 0, 0, 0, 0, 0, 0, 0, 0, 0, 0, 0, 0, 0,\n",
      "       0, 0, 0, 0, 0, 0, 0]), 'src_aroma': array([0, 0, 1, 1, 1, 1, 1, 0, 1, 0, 0, 1, 1, 1, 1, 0, 0, 0, 0, 0, 0, 0,\n",
      "       0, 1, 1, 1, 1, 1, 1]), 'tgt_aroma': array([0, 0, 0, 0, 0, 0, 0, 0, 0, 0, 0, 0, 0, 0, 0, 0, 0, 0, 0, 0, 0, 0,\n",
      "       0, 0, 0, 0, 0, 0, 1]), 'src_mask': array([0, 0, 0, 0, 0, 0, 0, 0, 0, 0, 0, 0, 0, 0, 0, 0, 0, 0, 0, 0, 0, 0,\n",
      "       0, 0, 0, 0, 0, 0, 0]), 'tgt_mask': array([1, 1, 1, 1, 1, 1, 1, 1, 1, 1, 1, 1, 1, 1, 1, 1, 1, 1, 1, 1, 1, 1,\n",
      "       1, 1, 1, 1, 1, 1, 0]), 'src_segment': array([1, 1, 1, 1, 1, 1, 1, 1, 1, 1, 1, 1, 1, 1, 1, 1, 1, 0, 0, 0, 0, 0,\n",
      "       0, 2, 2, 2, 2, 2, 2]), 'tgt_segment': array([0, 0, 0, 0, 0, 0, 0, 0, 0, 0, 0, 0, 0, 0, 0, 0, 0, 0, 0, 0, 0, 0,\n",
      "       0, 0, 0, 0, 0, 0, 0]), 'reactant': array([0, 0, 0, 0, 0, 0, 0, 0, 0, 0, 0, 0, 0, 0, 0, 0, 0, 0, 0, 0, 0, 0,\n",
      "       0, 0, 0, 0, 0, 0, 0])}, {'element': array([ 8,  6,  6, 17,  8,  6,  8,  8, 11,  7,  6,  6,  6,  6,  7,  6,  7]), 'src_bond': array([[ 1,  1,  0,  0,  0,  0],\n",
      "       [ 0,  0,  2,  1,  1,  1],\n",
      "       [ 1,  3,  2,  2,  2,  2],\n",
      "       [ 2,  3,  3,  3,  3,  3],\n",
      "       [ 5,  5,  4,  4,  4,  4],\n",
      "       [ 4,  4,  6,  7,  5,  5],\n",
      "       [ 5,  6,  6,  6,  6,  6],\n",
      "       [ 5,  7,  7,  7,  7,  7],\n",
      "       [ 8,  8,  8,  8,  8,  8],\n",
      "       [10,  9,  9,  9,  9,  9],\n",
      "       [ 9, 11, 15, 10, 10, 10],\n",
      "       [10, 12, 11, 11, 11, 11],\n",
      "       [11, 13, 12, 12, 12, 12],\n",
      "       [12, 14, 13, 13, 13, 13],\n",
      "       [13, 15, 14, 14, 14, 14],\n",
      "       [10, 14, 16, 15, 15, 15],\n",
      "       [15, 16, 16, 16, 16, 16]]), 'tgt_bond': array([[ 0,  0,  0,  0,  0,  0],\n",
      "       [ 0,  0,  0,  0,  0,  0],\n",
      "       [ 0,  0,  0,  0,  0,  0],\n",
      "       [ 0,  0,  0,  0,  0,  0],\n",
      "       [ 0,  0,  0,  0,  0,  0],\n",
      "       [ 0,  0,  0,  0,  0,  0],\n",
      "       [ 0,  0,  0,  0,  0,  0],\n",
      "       [ 0,  0,  0,  0,  0,  0],\n",
      "       [ 0,  0,  0,  0,  0,  0],\n",
      "       [ 0,  0,  0,  0,  0,  0],\n",
      "       [ 0,  0,  0,  0,  0,  0],\n",
      "       [ 0,  0,  0,  0,  0,  0],\n",
      "       [ 0,  0,  0,  0,  0,  0],\n",
      "       [ 0,  0,  0,  0,  0,  0],\n",
      "       [ 0,  0,  0,  0,  0,  0],\n",
      "       [ 0,  0,  0,  0,  0,  0],\n",
      "       [-1, -1, -1, -1, -1, -1]]), 'src_charge': array([ 0,  0,  0,  0,  0,  0, -1,  0,  1,  0,  0,  0,  0,  0,  0,  0,  0]), 'tgt_charge': array([0, 0, 0, 0, 0, 0, 0, 0, 0, 0, 0, 0, 0, 0, 0, 0, 0]), 'src_aroma': array([0, 0, 0, 0, 0, 0, 0, 0, 0, 0, 1, 1, 1, 1, 1, 1, 0]), 'tgt_aroma': array([0, 0, 0, 0, 0, 0, 0, 0, 0, 0, 0, 0, 0, 0, 0, 0, 1]), 'src_mask': array([0, 0, 0, 0, 0, 0, 0, 0, 0, 0, 0, 0, 0, 0, 0, 0, 0]), 'tgt_mask': array([1, 1, 1, 1, 1, 1, 1, 1, 1, 1, 1, 1, 1, 1, 1, 1, 0]), 'src_segment': array([2, 2, 2, 2, 3, 3, 3, 3, 1, 0, 0, 0, 0, 0, 0, 0, 0]), 'tgt_segment': array([0, 0, 0, 0, 0, 0, 0, 0, 0, 0, 0, 0, 0, 0, 0, 0, 0]), 'reactant': array([0, 0, 0, 0, 0, 0, 0, 0, 0, 0, 0, 0, 0, 0, 0, 0, 0])}]\n"
     ]
    }
   ],
   "source": [
    "import pickle\n",
    "\n",
    "def read_pickle_file(file_path):\n",
    "    with open(file_path, 'rb') as f:\n",
    "        data = pickle.load(f)\n",
    "    return data\n",
    "\n",
    "# 使用示例\n",
    "file_path = 'H:/NERF/data/USPTO-15K/valid_1_data.pickle'\n",
    "loaded_data = read_pickle_file(file_path)\n",
    "\n",
    "# 处理读取的数据\n",
    "print(loaded_data)\n"
   ],
   "metadata": {
    "collapsed": false,
    "ExecuteTime": {
     "end_time": "2023-08-04T19:31:28.641326800Z",
     "start_time": "2023-08-04T19:31:28.628169200Z"
    }
   }
  },
  {
   "cell_type": "code",
   "execution_count": 15,
   "outputs": [
    {
     "data": {
      "text/plain": "(17,)"
     },
     "execution_count": 15,
     "metadata": {},
     "output_type": "execute_result"
    }
   ],
   "source": [
    "loaded_data[1]['element'].shape"
   ],
   "metadata": {
    "collapsed": false,
    "ExecuteTime": {
     "end_time": "2023-08-04T19:32:35.805041600Z",
     "start_time": "2023-08-04T19:32:35.798023800Z"
    }
   }
  },
  {
   "cell_type": "code",
   "execution_count": 31,
   "outputs": [
    {
     "data": {
      "text/plain": "array([0, 0, 0, 0, 0, 0, 0, 0, 0, 0, 0, 0, 0, 0, 0, 0, 0, 0, 0, 0, 0, 0,\n       0, 0, 0, 0, 0, 0, 0])"
     },
     "execution_count": 31,
     "metadata": {},
     "output_type": "execute_result"
    }
   ],
   "source": [
    "# [CH3:18][CH2:19][O:20][C:21](=[O:22])[Cl:23].[CH3:1][O:2][c:3]1[cH:4][c:5]2[n:6][c:7]([NH2:8])[c:9]([O:10][CH3:11])[n:12][c:13]2[cH:14][c:15]1[O:16][CH3:17].[cH:24]1[cH:25][cH:26][n:27][cH:28][cH:29]\n",
    "loaded_data[0]['src_charge']"
   ],
   "metadata": {
    "collapsed": false,
    "ExecuteTime": {
     "end_time": "2023-08-04T20:03:40.507753900Z",
     "start_time": "2023-08-04T20:03:40.488050Z"
    }
   }
  },
  {
   "cell_type": "code",
   "execution_count": 18,
   "outputs": [
    {
     "name": "stdout",
     "output_type": "stream",
     "text": [
      "[CH3:18][CH2:19][O:20][C:21](=[O:22])[Cl:23].[CH3:1][O:2][c:3]1[cH:4][c:5]2[n:6][c:7]([NH2:8])[c:9]([O:10][CH3:11])[n:12][c:13]2[cH:14][c:15]1[O:16][CH3:17].[cH:24]1[cH:25][cH:26][n:27][cH:28][cH:29]1\n",
      "CCOC(=O)Nc1nc2cc(OC)c(OC)cc2nc1OC\n"
     ]
    }
   ],
   "source": [
    "import re\n",
    "line = \"[CH3:18][CH2:19][O:20][C:21](=[O:22])[Cl:23].[CH3:1][O:2][c:3]1[cH:4][c:5]2[n:6][c:7]([NH2:8])[c:9]([O:10][CH3:11])[n:12][c:13]2[cH:14][c:15]1[O:16][CH3:17].[cH:24]1[cH:25][cH:26][n:27][cH:28][cH:29]1>>CCOC(=O)Nc1nc2cc(OC)c(OC)cc2nc1OC 8;;21-23-1.0;21-8-1.0\"\n",
    "rxn = line.split()[0].split(\">>\")\n",
    "src = rxn[0]\n",
    "tgt = rxn[1]\n",
    "\n",
    "print(src)\n",
    "print(tgt)"
   ],
   "metadata": {
    "collapsed": false,
    "ExecuteTime": {
     "end_time": "2023-08-04T19:43:48.504070200Z",
     "start_time": "2023-08-04T19:43:48.499589400Z"
    }
   }
  },
  {
   "cell_type": "code",
   "execution_count": 19,
   "outputs": [
    {
     "data": {
      "text/plain": "[]"
     },
     "execution_count": 19,
     "metadata": {},
     "output_type": "execute_result"
    }
   ],
   "source": [
    "pattern = re.compile(\":(\\d+)\\]\")\n",
    "pattern.findall(tgt)"
   ],
   "metadata": {
    "collapsed": false,
    "ExecuteTime": {
     "end_time": "2023-08-04T19:44:29.352841600Z",
     "start_time": "2023-08-04T19:44:29.349418200Z"
    }
   }
  },
  {
   "cell_type": "code",
   "execution_count": 21,
   "outputs": [
    {
     "data": {
      "text/plain": "[<rdkit.Chem.rdchem.Mol at 0x25d0e0745f0>,\n <rdkit.Chem.rdchem.Mol at 0x25d0e074660>,\n <rdkit.Chem.rdchem.Mol at 0x25d0e074510>]"
     },
     "execution_count": 21,
     "metadata": {},
     "output_type": "execute_result"
    }
   ],
   "source": [
    "from rdkit import Chem\n",
    "src_mols = src.split('.')\n",
    "src_mols = [Chem.MolFromSmiles(item) for item in src_mols]\n",
    "src_mols"
   ],
   "metadata": {
    "collapsed": false,
    "ExecuteTime": {
     "end_time": "2023-08-04T19:46:55.687121500Z",
     "start_time": "2023-08-04T19:46:55.525419Z"
    }
   }
  },
  {
   "cell_type": "code",
   "execution_count": 22,
   "outputs": [
    {
     "data": {
      "text/plain": "[<rdkit.Chem.rdchem.Mol at 0x25d0e0749e0>]"
     },
     "execution_count": 22,
     "metadata": {},
     "output_type": "execute_result"
    }
   ],
   "source": [
    "tgt_mols = [Chem.MolFromSmiles(item) for item in tgt.split(\".\")]\n",
    "tgt_mols"
   ],
   "metadata": {
    "collapsed": false,
    "ExecuteTime": {
     "end_time": "2023-08-04T19:47:13.939181100Z",
     "start_time": "2023-08-04T19:47:13.924778200Z"
    }
   }
  },
  {
   "cell_type": "code",
   "execution_count": 24,
   "outputs": [
    {
     "name": "stdout",
     "output_type": "stream",
     "text": [
      "18\n",
      "17 18\n",
      "----------\n",
      "19\n",
      "17 19\n",
      "----------\n",
      "20\n",
      "17 20\n",
      "----------\n",
      "21\n",
      "17 21\n",
      "----------\n",
      "22\n",
      "17 22\n",
      "----------\n",
      "23\n",
      "17 23\n",
      "----------\n",
      "1\n",
      "0 1\n",
      "----------\n",
      "2\n",
      "0 2\n",
      "----------\n",
      "3\n",
      "0 3\n",
      "----------\n",
      "4\n",
      "0 4\n",
      "----------\n",
      "5\n",
      "0 5\n",
      "----------\n",
      "6\n",
      "0 6\n",
      "----------\n",
      "7\n",
      "0 7\n",
      "----------\n",
      "8\n",
      "0 8\n",
      "----------\n",
      "9\n",
      "0 9\n",
      "----------\n",
      "10\n",
      "0 10\n",
      "----------\n",
      "11\n",
      "0 11\n",
      "----------\n",
      "12\n",
      "0 12\n",
      "----------\n",
      "13\n",
      "0 13\n",
      "----------\n",
      "14\n",
      "0 14\n",
      "----------\n",
      "15\n",
      "0 15\n",
      "----------\n",
      "16\n",
      "0 16\n",
      "----------\n",
      "17\n",
      "0 17\n",
      "----------\n",
      "24\n",
      "23 24\n",
      "----------\n",
      "25\n",
      "23 25\n",
      "----------\n",
      "26\n",
      "23 26\n",
      "----------\n",
      "27\n",
      "23 27\n",
      "----------\n",
      "28\n",
      "23 28\n",
      "----------\n",
      "29\n",
      "23 29\n",
      "----------\n"
     ]
    }
   ],
   "source": [
    "ranges = []\n",
    "for mol in src_mols:\n",
    "    lower = 999\n",
    "    upper = 0\n",
    "    for atom in mol.GetAtoms():\n",
    "        print(atom.GetAtomMapNum())\n",
    "        lower = min(lower, atom.GetAtomMapNum()-1)\n",
    "        upper = max(upper, atom.GetAtomMapNum())\n",
    "        print(lower, upper)\n",
    "        print('-'*10)\n",
    "    ranges.append((lower, upper))"
   ],
   "metadata": {
    "collapsed": false,
    "ExecuteTime": {
     "end_time": "2023-08-04T19:50:13.331337Z",
     "start_time": "2023-08-04T19:50:13.315403300Z"
    }
   }
  },
  {
   "cell_type": "code",
   "execution_count": 26,
   "outputs": [
    {
     "data": {
      "text/plain": "[(17, 23), (0, 17), (23, 29)]"
     },
     "execution_count": 26,
     "metadata": {},
     "output_type": "execute_result"
    }
   ],
   "source": [
    "ranges"
   ],
   "metadata": {
    "collapsed": false,
    "ExecuteTime": {
     "end_time": "2023-08-04T19:51:28.186414600Z",
     "start_time": "2023-08-04T19:51:28.183342100Z"
    }
   }
  },
  {
   "cell_type": "code",
   "execution_count": 40,
   "outputs": [
    {
     "data": {
      "text/plain": "<rdkit.Chem.rdchem.Atom at 0x25d0e21a4a0>"
     },
     "execution_count": 40,
     "metadata": {},
     "output_type": "execute_result"
    }
   ],
   "source": [
    "atom"
   ],
   "metadata": {
    "collapsed": false,
    "ExecuteTime": {
     "end_time": "2023-08-04T20:16:23.192443600Z",
     "start_time": "2023-08-04T20:16:23.187718500Z"
    }
   }
  },
  {
   "cell_type": "code",
   "execution_count": 43,
   "outputs": [
    {
     "name": "stdout",
     "output_type": "stream",
     "text": [
      "0 3 4\n",
      "3\n",
      "DOUBLE\n"
     ]
    }
   ],
   "source": [
    "# Atom: [CH3:18][CH2:19][O:20][C:21](=[O:22])[Cl:23]\n",
    "atom = src_mols[0].GetAtoms()[4]\n",
    "for j,b in enumerate(atom.GetBonds()):\n",
    "    print(j, b.GetBeginAtomIdx(), b.GetEndAtomIdx())\n",
    "    print(b.GetBeginAtomIdx() + b.GetEndAtomIdx() - atom.GetIdx())\n",
    "    print(b.GetBondType())"
   ],
   "metadata": {
    "collapsed": false,
    "ExecuteTime": {
     "end_time": "2023-08-04T20:18:25.180106300Z",
     "start_time": "2023-08-04T20:18:25.172274500Z"
    }
   }
  }
 ],
 "metadata": {
  "kernelspec": {
   "display_name": "Python 3",
   "language": "python",
   "name": "python3"
  },
  "language_info": {
   "codemirror_mode": {
    "name": "ipython",
    "version": 2
   },
   "file_extension": ".py",
   "mimetype": "text/x-python",
   "name": "python",
   "nbconvert_exporter": "python",
   "pygments_lexer": "ipython2",
   "version": "2.7.6"
  }
 },
 "nbformat": 4,
 "nbformat_minor": 0
}
