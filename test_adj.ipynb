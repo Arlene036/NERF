{
 "cells": [
  {
   "cell_type": "code",
   "execution_count": 29,
   "metadata": {
    "collapsed": true,
    "ExecuteTime": {
     "end_time": "2023-08-11T16:35:23.430953200Z",
     "start_time": "2023-08-11T16:35:23.409858500Z"
    }
   },
   "outputs": [],
   "source": [
    "# 写一个函数，入参是reactants SMILES\n",
    "# 输出是predicted SMILES, mol_graph, diff graph\n"
   ]
  },
  {
   "cell_type": "code",
   "execution_count": 30,
   "outputs": [],
   "source": [
    "# 把入参的SMILES处理成model可以接收的形式：（batch size = 1）的dataloader\n",
    "# 同时，输出src的element, mask, bond, aroma, charge\n",
    "from dataset import TransformerDataset\n",
    "from preprocess import molecule\n",
    "from torch.utils.data import DataLoader\n",
    "from rdkit import Chem\n",
    "\n",
    "def map_atoms_in_smiles(smiles):\n",
    "    mol = Chem.MolFromSmiles(smiles)\n",
    "\n",
    "    if mol is None:\n",
    "        return None\n",
    "\n",
    "    atom_map = {}\n",
    "    for atom in mol.GetAtoms():\n",
    "        atom.SetAtomMapNum(atom.GetIdx() + 1)\n",
    "        atom_map[atom.GetIdx()] = atom.GetIdx() + 1\n",
    "\n",
    "    mapped_smiles = Chem.MolToSmiles(mol, canonical=True, isomericSmiles=True)\n",
    "    return mapped_smiles\n",
    "\n",
    "def process_smiles(smiles, map_atoms=False):\n",
    "    if map_atoms:\n",
    "        smiles = map_atoms_in_smiles(smiles)\n",
    "    reactant_mols = [Chem.MolFromSmiles(item) for item in smiles.split(\".\")]\n",
    "    reactant_len = Chem.MolFromSmiles(smiles).GetNumAtoms()\n",
    "\n",
    "    reactant_features = molecule(reactant_mols, reactant_len)\n",
    "\n",
    "    element = reactant_features['element']\n",
    "    mask = reactant_features['mask']\n",
    "    bond = reactant_features['bond']\n",
    "    aroma = reactant_features['aroma']\n",
    "    charge = reactant_features['charge']\n",
    "\n",
    "    input_data = {}\n",
    "    for key in reactant_features:\n",
    "        if key in [\"element\", \"reactant\"]:\n",
    "            input_data[key] = reactant_features[key]\n",
    "        else:\n",
    "            input_data['src_'+key] = reactant_features[key]\n",
    "\n",
    "    print('reactant')\n",
    "    print(reactant_features['reactant'])\n",
    "    print('src mask')\n",
    "    print(reactant_features['mask'])\n",
    "\n",
    "    data = [input_data]\n",
    "    full_dataset = TransformerDataset(False, data)\n",
    "\n",
    "    data_loader = DataLoader(full_dataset,\n",
    "                             batch_size=1,\n",
    "                             num_workers=4, collate_fn=TransformerDataset.collate_fn)\n",
    "\n",
    "    return data_loader, element, mask, bond, aroma, charge\n"
   ],
   "metadata": {
    "collapsed": false,
    "ExecuteTime": {
     "end_time": "2023-08-11T16:35:23.464582100Z",
     "start_time": "2023-08-11T16:35:23.429953Z"
    }
   }
  },
  {
   "cell_type": "code",
   "execution_count": 30,
   "outputs": [],
   "source": [],
   "metadata": {
    "collapsed": false,
    "ExecuteTime": {
     "end_time": "2023-08-11T16:35:23.464582100Z",
     "start_time": "2023-08-11T16:35:23.441674200Z"
    }
   }
  },
  {
   "cell_type": "code",
   "execution_count": 31,
   "outputs": [],
   "source": [
    "# SM = \"[CH2:23]1[O:24][CH2:25][CH2:26][CH2:27]1.[F:1][c:2]1[c:3]([N+:10](=[O:11])[O-:12])[cH:4][c:5]([F:9])[c:6]([F:8])[cH:7]1.[H-:22].[NH2:13][c:14]1[s:15][cH:16][cH:17][c:18]1[C:19]#[N:20].[Na+:21]\"\n",
    "# data_loader, element, mask, bond, aroma, charge = process_smiles(SM)"
   ],
   "metadata": {
    "collapsed": false,
    "ExecuteTime": {
     "end_time": "2023-08-11T16:35:23.471306900Z",
     "start_time": "2023-08-11T16:35:23.457776900Z"
    }
   }
  },
  {
   "cell_type": "code",
   "execution_count": 32,
   "outputs": [],
   "source": [
    "# 利用result = map(result2mol, arg_list) ； 输出为： mol, smile, check(smile), mol_graph\n",
    "from utils import result2mol\n",
    "from model import *\n",
    "\n",
    "def init_model(save_path, checkpoint):\n",
    "    state_dict = {}\n",
    "    map_location = {'cuda:%d' % 0: 'cuda:%d' % 0}\n",
    "    checkpoint = torch.load(os.path.join(save_path, checkpoint), map_location=map_location)\n",
    "    for key in checkpoint['model_state_dict']:\n",
    "        if key in state_dict:\n",
    "            state_dict[key] += checkpoint['model_state_dict'][key]\n",
    "        else:\n",
    "            state_dict[key] = checkpoint['model_state_dict'][key]\n",
    "\n",
    "    model = MoleculeVAE(None, 100, 192, 6).to(0) # TODO\n",
    "    # model.load_state_dict(state_dict)\n",
    "\n",
    "    return model\n",
    "\n",
    "def predict(data_loader,\n",
    "            save_path='./CKPT/no_reactant_mask/', checkpoint=\"epoch-7-loss-2.3548229463048114\", temperature=1):\n",
    "\n",
    "    model = init_model(save_path, checkpoint)\n",
    "\n",
    "    for data in data_loader: # 只有1个\n",
    "        data_gpu = {}\n",
    "        for key in data:\n",
    "            data_gpu[key] = data[key].to(0)\n",
    "\n",
    "        predicted_dict = model('sample', data_gpu, temperature)\n",
    "\n",
    "        element = data['element']\n",
    "        src_mask = data['src_mask']\n",
    "        pred_bond = predicted_dict['bond'].cpu()\n",
    "        pred_aroma, pred_charge = predicted_dict['aroma'].cpu(), predicted_dict['charge'].cpu()\n",
    "\n",
    "        arg_list = [(element[j], src_mask[j], pred_bond[j], pred_aroma[j], pred_charge[j], None) for j in\n",
    "                range(1)]\n",
    "\n",
    "        res = map(result2mol, arg_list)\n",
    "        res = list(res)\n",
    "\n",
    "        for item in res:\n",
    "            mol, smile, valid, mol_graph = item[0], item[1], item[2], item[3]\n",
    "\n",
    "        return mol, smile, valid, mol_graph, pred_bond, pred_aroma, pred_charge"
   ],
   "metadata": {
    "collapsed": false,
    "ExecuteTime": {
     "end_time": "2023-08-11T16:35:23.485239400Z",
     "start_time": "2023-08-11T16:35:23.475323800Z"
    }
   }
  },
  {
   "cell_type": "code",
   "execution_count": 33,
   "outputs": [],
   "source": [
    "# pred_mol, pred_smile, pred_valid, pred_mol_graph, pred_bond, pred_aroma, pred_charge = predict(data_loader)"
   ],
   "metadata": {
    "collapsed": false,
    "ExecuteTime": {
     "end_time": "2023-08-11T16:35:23.509257500Z",
     "start_time": "2023-08-11T16:35:23.487995800Z"
    }
   }
  },
  {
   "cell_type": "code",
   "execution_count": 34,
   "outputs": [],
   "source": [
    "# 根据result的element, mask, bond, aroma, charge 以及 src的element, mask, bond, aroma, charge\n",
    "# 调用get_diff_adj，获得diff graph\n",
    "from utils import get_diff_adj\n",
    "\n",
    "# diff, adj_src, adj_pred = get_diff_adj(element, mask, bond, aroma, charge,\n",
    "#              pred_bond.squeeze(), pred_aroma.squeeze(), pred_charge.squeeze())\n",
    "\n"
   ],
   "metadata": {
    "collapsed": false,
    "ExecuteTime": {
     "end_time": "2023-08-11T16:35:23.518294100Z",
     "start_time": "2023-08-11T16:35:23.501903600Z"
    }
   }
  },
  {
   "cell_type": "code",
   "execution_count": 35,
   "outputs": [],
   "source": [
    "# diff.sum()"
   ],
   "metadata": {
    "collapsed": false,
    "ExecuteTime": {
     "end_time": "2023-08-11T16:35:23.539270500Z",
     "start_time": "2023-08-11T16:35:23.517166Z"
    }
   }
  },
  {
   "cell_type": "code",
   "execution_count": 36,
   "outputs": [],
   "source": [
    "# bond"
   ],
   "metadata": {
    "collapsed": false,
    "ExecuteTime": {
     "end_time": "2023-08-11T16:35:23.546774700Z",
     "start_time": "2023-08-11T16:35:23.533824800Z"
    }
   }
  },
  {
   "cell_type": "code",
   "execution_count": 37,
   "outputs": [],
   "source": [
    "# pred_bond.numpy()"
   ],
   "metadata": {
    "collapsed": false,
    "ExecuteTime": {
     "end_time": "2023-08-11T16:35:23.569370900Z",
     "start_time": "2023-08-11T16:35:23.548779400Z"
    }
   }
  },
  {
   "cell_type": "code",
   "execution_count": 38,
   "outputs": [],
   "source": [
    "# adj_src"
   ],
   "metadata": {
    "collapsed": false,
    "ExecuteTime": {
     "end_time": "2023-08-11T16:35:23.579170900Z",
     "start_time": "2023-08-11T16:35:23.562829Z"
    }
   }
  },
  {
   "cell_type": "code",
   "execution_count": 39,
   "outputs": [],
   "source": [
    "# adj_pred"
   ],
   "metadata": {
    "collapsed": false,
    "ExecuteTime": {
     "end_time": "2023-08-11T16:35:23.596899300Z",
     "start_time": "2023-08-11T16:35:23.580192200Z"
    }
   }
  },
  {
   "cell_type": "markdown",
   "source": [
    "# 代碼"
   ],
   "metadata": {
    "collapsed": false
   }
  },
  {
   "cell_type": "code",
   "execution_count": 40,
   "outputs": [],
   "source": [
    "def pred_from_smiles(smiles):\n",
    "    dl, element, mask, bond, aroma, charge = process_smiles(smiles, False)\n",
    "\n",
    "    pred_mol, pred_smile, pred_valid, pred_mol_graph, pred_bond, pred_aroma, pred_charge = predict(dl)\n",
    "\n",
    "    diff, adj_src, adj_pred = get_diff_adj(element, mask, bond, aroma, charge,\n",
    "             pred_bond.squeeze(), pred_aroma.squeeze(), pred_charge.squeeze())\n",
    "\n",
    "    return pred_smile, diff, adj_src, adj_pred\n"
   ],
   "metadata": {
    "collapsed": false,
    "ExecuteTime": {
     "end_time": "2023-08-11T16:35:23.609876300Z",
     "start_time": "2023-08-11T16:35:23.593898300Z"
    }
   }
  },
  {
   "cell_type": "code",
   "execution_count": 51,
   "outputs": [
    {
     "name": "stdout",
     "output_type": "stream",
     "text": [
      "reactant\n",
      "[1 1 1 1 1 1 1 1 1 1 1 1 1 1 1 1 1 1 1 1 1 1 1 1]\n",
      "src mask\n",
      "[0 0 0 0 0 0 0 0 0 0 0 0 0 0 0 0 0 0 0 0 0 0 0 0]\n",
      "reactant ************************************************************\n",
      "tensor([[1, 1, 1, 1, 1, 1, 1, 1, 1, 1, 1, 1, 1, 1, 1, 1, 1, 1, 1, 1, 1, 1, 1, 1]],\n",
      "       device='cuda:0')\n",
      "src_mask ************************************************************\n",
      "tensor([[False, False, False, False, False, False, False, False, False, False,\n",
      "         False, False, False, False, False, False, False, False, False, False,\n",
      "         False, False, False, False]], device='cuda:0')\n",
      "smile ********************\n",
      "[C-2:1]([CH-2:2])[n-2:3]1[c-2:4][c-2:5]([C+5:22](=[O-2:23])[O-2:24])[c-2:6](=[O-2:21])[c-2:7]2[c-2:8][c-2:9]([f-2:20])[c:10]([c-2:13]3[c-2:14][C-2:15][c+5:16]([n-2:19])[c-6:17][c+5:18]3)[c-2:11][c+5:12]12\n"
     ]
    },
    {
     "name": "stderr",
     "output_type": "stream",
     "text": [
      "[12:41:48] SMILES Parse Error: syntax error while parsing: [C-2:1]([CH-2:2])[n-2:3]1[c-2:4][c-2:5]([C+5:22](=[O-2:23])[O-2:24])[c-2:6](=[O-2:21])[c-2:7]2[c-2:8][c-2:9]([f-2:20])[c:10]([c-2:13]3[c-2:14][C-2:15][c+5:16]([n-2:19])[c-6:17][c+5:18]3)[c-2:11][c+5:12]12\n",
      "[12:41:48] SMILES Parse Error: Failed parsing SMILES '[C-2:1]([CH-2:2])[n-2:3]1[c-2:4][c-2:5]([C+5:22](=[O-2:23])[O-2:24])[c-2:6](=[O-2:21])[c-2:7]2[c-2:8][c-2:9]([f-2:20])[c:10]([c-2:13]3[c-2:14][C-2:15][c+5:16]([n-2:19])[c-6:17][c+5:18]3)[c-2:11][c+5:12]12' for input: '[C-2:1]([CH-2:2])[n-2:3]1[c-2:4][c-2:5]([C+5:22](=[O-2:23])[O-2:24])[c-2:6](=[O-2:21])[c-2:7]2[c-2:8][c-2:9]([f-2:20])[c:10]([c-2:13]3[c-2:14][C-2:15][c+5:16]([n-2:19])[c-6:17][c+5:18]3)[c-2:11][c+5:12]12'\n"
     ]
    },
    {
     "name": "stdout",
     "output_type": "stream",
     "text": [
      "smile ********************\n",
      "[CH2:1]([CH3:2])[n:3]1[cH:4][c:5]([C:22](=[O:23])[OH:24])[c:6](=[O:21])[c:7]2[cH:8][c:9]([F:20])[c:10]([c:13]3[cH:14][cH:15][c:16]([NH2:19])[cH:17][cH:18]3)[cH:11][c:12]12\n",
      "smile ********************\n",
      "[C-2:1]([CH-2:2])[n-2:3]1[c-2:4][c-2:5]([C+5:22](=[O-2:23])[O-2:24])[c-2:6](=[O-2:21])[c-2:7]2[c-2:8][c-2:9]([f-2:20])[c:10]([c-2:13]3[c-2:14][C-2:15][c+5:16]([n-2:19])[c-6:17][c+5:18]3)[c-2:11][c+5:12]12\n"
     ]
    },
    {
     "name": "stderr",
     "output_type": "stream",
     "text": [
      "[12:41:48] SMILES Parse Error: syntax error while parsing: [C-2:1]([CH-2:2])[n-2:3]1[c-2:4][c-2:5]([C+5:22](=[O-2:23])[O-2:24])[c-2:6](=[O-2:21])[c-2:7]2[c-2:8][c-2:9]([f-2:20])[c:10]([c-2:13]3[c-2:14][C-2:15][c+5:16]([n-2:19])[c-6:17][c+5:18]3)[c-2:11][c+5:12]12\n",
      "[12:41:48] SMILES Parse Error: Failed parsing SMILES '[C-2:1]([CH-2:2])[n-2:3]1[c-2:4][c-2:5]([C+5:22](=[O-2:23])[O-2:24])[c-2:6](=[O-2:21])[c-2:7]2[c-2:8][c-2:9]([f-2:20])[c:10]([c-2:13]3[c-2:14][C-2:15][c+5:16]([n-2:19])[c-6:17][c+5:18]3)[c-2:11][c+5:12]12' for input: '[C-2:1]([CH-2:2])[n-2:3]1[c-2:4][c-2:5]([C+5:22](=[O-2:23])[O-2:24])[c-2:6](=[O-2:21])[c-2:7]2[c-2:8][c-2:9]([f-2:20])[c:10]([c-2:13]3[c-2:14][C-2:15][c+5:16]([n-2:19])[c-6:17][c+5:18]3)[c-2:11][c+5:12]12'\n"
     ]
    }
   ],
   "source": [
    "pred_smile, diff, adj_src, adj_pred = pred_from_smiles(\"[CH2:1]([CH3:2])[n:3]1[cH:4][c:5]([C:22](=[O:23])[OH:24])[c:6](=[O:21])[c:7]2[cH:8][c:9]([F:20])[c:10](-[c:13]3[cH:14][cH:15][c:16]([NH2:19])[cH:17][cH:18]3)[cH:11][c:12]12\")\n",
    "\n",
    "# [OH:1][c:2]1[n:3][cH:4][c:5]([C:6](=[O:7])[CH2:15][CH:16]([CH3:17])[CH3:18])[cH:12][cH:13]1"
   ],
   "metadata": {
    "collapsed": false,
    "ExecuteTime": {
     "end_time": "2023-08-11T16:41:48.784219600Z",
     "start_time": "2023-08-11T16:41:45.981885700Z"
    }
   }
  },
  {
   "cell_type": "code",
   "execution_count": 52,
   "outputs": [
    {
     "data": {
      "text/plain": "'[C-2:1]([CH-2:2])[n-2:3]1[c-2:4][c-2:5]([C+5:22](=[O-2:23])[O-2:24])[c-2:6](=[O-2:21])[c-2:7]2[c-2:8][c-2:9]([f-2:20])[c:10]([c-2:13]3[c-2:14][C-2:15][c+5:16]([n-2:19])[c-6:17][c+5:18]3)[c-2:11][c+5:12]12'"
     },
     "execution_count": 52,
     "metadata": {},
     "output_type": "execute_result"
    }
   ],
   "source": [
    "pred_smile\n",
    "# [CH3:14][NH2:15].[N+:1](=[O:2])([O-:3])[c:4]1[cH:5][c:6]([C:7](=[O:8])[OH:9])[cH:10][cH:11][c:12]1[Cl:13].[OH2:16]\n",
    "# [N+:1](=[O:2])([O-:3])[c:4]1[cH:5][c:6]([C:7](=[O:8])[OH:9])[cH:10][cH:11][c:12]1[NH:15][CH3:14]"
   ],
   "metadata": {
    "collapsed": false,
    "ExecuteTime": {
     "end_time": "2023-08-11T16:41:50.643176700Z",
     "start_time": "2023-08-11T16:41:50.627637300Z"
    }
   }
  },
  {
   "cell_type": "code",
   "execution_count": 53,
   "outputs": [
    {
     "data": {
      "text/plain": "tensor([[0, 0, 0, 0, 0, 0, 0, 0, 0, 0, 0, 0, 0, 0, 0, 0, 0, 0, 0, 0, 0, 0, 0, 0],\n        [0, 0, 0, 0, 0, 0, 0, 0, 0, 0, 0, 0, 0, 0, 0, 0, 0, 0, 0, 0, 0, 0, 0, 0],\n        [0, 0, 0, 0, 0, 0, 0, 0, 0, 0, 0, 0, 0, 0, 0, 0, 0, 0, 0, 0, 0, 0, 0, 0],\n        [0, 0, 0, 0, 0, 0, 0, 0, 0, 0, 0, 0, 0, 0, 0, 0, 0, 0, 0, 0, 0, 0, 0, 0],\n        [0, 0, 0, 0, 0, 0, 0, 0, 0, 0, 0, 0, 0, 0, 0, 0, 0, 0, 0, 0, 0, 0, 0, 0],\n        [0, 0, 0, 0, 0, 0, 0, 0, 0, 0, 0, 0, 0, 0, 0, 0, 0, 0, 0, 0, 0, 0, 0, 0],\n        [0, 0, 0, 0, 0, 0, 0, 0, 0, 0, 0, 0, 0, 0, 0, 0, 0, 0, 0, 0, 0, 0, 0, 0],\n        [0, 0, 0, 0, 0, 0, 0, 0, 0, 0, 0, 0, 0, 0, 0, 0, 0, 0, 0, 0, 0, 0, 0, 0],\n        [0, 0, 0, 0, 0, 0, 0, 0, 0, 0, 0, 0, 0, 0, 0, 0, 0, 0, 0, 0, 0, 0, 0, 0],\n        [0, 0, 0, 0, 0, 0, 0, 0, 0, 0, 0, 0, 0, 0, 0, 0, 0, 0, 0, 0, 0, 0, 0, 0],\n        [0, 0, 0, 0, 0, 0, 0, 0, 0, 0, 0, 0, 0, 0, 0, 0, 0, 0, 0, 0, 0, 0, 0, 0],\n        [0, 0, 0, 0, 0, 0, 0, 0, 0, 0, 0, 0, 0, 0, 0, 0, 0, 0, 0, 0, 0, 0, 0, 0],\n        [0, 0, 0, 0, 0, 0, 0, 0, 0, 0, 0, 0, 0, 0, 0, 0, 0, 0, 0, 0, 0, 0, 0, 0],\n        [0, 0, 0, 0, 0, 0, 0, 0, 0, 0, 0, 0, 0, 0, 0, 0, 0, 0, 0, 0, 0, 0, 0, 0],\n        [0, 0, 0, 0, 0, 0, 0, 0, 0, 0, 0, 0, 0, 0, 0, 0, 0, 0, 0, 0, 0, 0, 0, 0],\n        [0, 0, 0, 0, 0, 0, 0, 0, 0, 0, 0, 0, 0, 0, 0, 0, 0, 0, 0, 0, 0, 0, 0, 0],\n        [0, 0, 0, 0, 0, 0, 0, 0, 0, 0, 0, 0, 0, 0, 0, 0, 0, 0, 0, 0, 0, 0, 0, 0],\n        [0, 0, 0, 0, 0, 0, 0, 0, 0, 0, 0, 0, 0, 0, 0, 0, 0, 0, 0, 0, 0, 0, 0, 0],\n        [0, 0, 0, 0, 0, 0, 0, 0, 0, 0, 0, 0, 0, 0, 0, 0, 0, 0, 0, 0, 0, 0, 0, 0],\n        [0, 0, 0, 0, 0, 0, 0, 0, 0, 0, 0, 0, 0, 0, 0, 0, 0, 0, 0, 0, 0, 0, 0, 0],\n        [0, 0, 0, 0, 0, 0, 0, 0, 0, 0, 0, 0, 0, 0, 0, 0, 0, 0, 0, 0, 0, 0, 0, 0],\n        [0, 0, 0, 0, 0, 0, 0, 0, 0, 0, 0, 0, 0, 0, 0, 0, 0, 0, 0, 0, 0, 0, 0, 0],\n        [0, 0, 0, 0, 0, 0, 0, 0, 0, 0, 0, 0, 0, 0, 0, 0, 0, 0, 0, 0, 0, 0, 0, 0],\n        [0, 0, 0, 0, 0, 0, 0, 0, 0, 0, 0, 0, 0, 0, 0, 0, 0, 0, 0, 0, 0, 0, 0, 0]],\n       dtype=torch.int32)"
     },
     "execution_count": 53,
     "metadata": {},
     "output_type": "execute_result"
    }
   ],
   "source": [
    "diff"
   ],
   "metadata": {
    "collapsed": false,
    "ExecuteTime": {
     "end_time": "2023-08-11T16:41:52.351782Z",
     "start_time": "2023-08-11T16:41:52.343552700Z"
    }
   }
  },
  {
   "cell_type": "markdown",
   "source": [
    "## 转化为文字解释"
   ],
   "metadata": {
    "collapsed": false
   }
  },
  {
   "cell_type": "code",
   "execution_count": 42,
   "outputs": [],
   "source": [],
   "metadata": {
    "collapsed": false,
    "ExecuteTime": {
     "end_time": "2023-08-11T16:35:31.673610100Z",
     "start_time": "2023-08-11T16:35:31.630972100Z"
    }
   }
  },
  {
   "cell_type": "code",
   "execution_count": 43,
   "outputs": [
    {
     "name": "stdout",
     "output_type": "stream",
     "text": [
      "Formation of bond between atom 1 (N element) and atom 2 (F element)\n",
      "Formation of bond between atom 1 (N element) and atom 5 (N element)\n"
     ]
    }
   ],
   "source": [
    "def get_reaction_info(elements, diff):\n",
    "    element_symbols = [\"H\", \"He\", \"Li\", \"Be\", \"B\", \"C\", \"N\", \"O\", \"F\", \"Ne\", \"Na\", \"Mg\", \"Al\", \"Si\", \"P\", \"S\", \"Cl\", \"Ar\", \"K\", \"Ca\", \"Sc\", \"Ti\", \"V\", \"Cr\", \"Mn\", \"Fe\", \"Ni\", \"Co\", \"Cu\", \"Zn\", \"Ga\", \"Ge\", \"As\", \"Se\", \"Br\", \"Kr\", \"Rb\", \"Sr\", \"Y\", \"Zr\", \"Nb\", \"Mo\", \"Tc\", \"Ru\", \"Rh\", \"Pd\", \"Ag\", \"Cd\", \"In\", \"Sn\", \"Sb\", \"Te\", \"I\", \"Xe\", \"Cs\", \"Ba\", \"La\", \"Ce\", \"Pr\", \"Nd\", \"Pm\", \"Sm\", \"Eu\", \"Gd\", \"Tb\", \"Dy\", \"Ho\", \"Er\", \"Tm\", \"Yb\", \"Lu\", \"Hf\", \"Ta\", \"W\", \"Re\", \"Os\", \"Ir\", \"Pt\", \"Au\", \"Hg\", \"Tl\", \"Pb\", \"Bi\", \"Po\", \"At\", \"Rn\", \"Fr\", \"Ra\", \"Ac\", \"Th\", \"Pa\", \"U\", \"Np\", \"Pu\", \"Am\", \"Cm\", \"Bk\", \"Cf\", \"Es\", \"Fm\", \"Md\", \"No\", \"Lr\", \"Rf\", \"Db\", \"Sg\", \"Bh\", \"Hs\", \"Mt\", \"Ds\", \"Rg\", \"Cn\", \"Nh\", \"Fl\", \"Mc\", \"Lv\", \"Ts\", \"Og\"]\n",
    "\n",
    "    reaction_info = []\n",
    "\n",
    "    for i in range(len(diff)):\n",
    "        for j in range(i+1, len(diff)):\n",
    "            if diff[i][j] == 1:\n",
    "                reaction_info.append(f\"Formation of bond between atom {i+1} ({element_symbols[elements[i]]} element) and atom {j+1} ({element_symbols[elements[j]]} element)\")\n",
    "            elif diff[i][j] == -1:\n",
    "                reaction_info.append(f\"Breaking of bond between atom {i+1} ({element_symbols[elements[i]]} element) and atom {j+1} ({element_symbols[elements[j]]} element)\")\n",
    "\n",
    "    return reaction_info\n",
    "\n",
    "# Example inputs\n",
    "elements = [6, 8, 1, 1, 6, 1]  # C, O, H, H, C, H\n",
    "diff = [\n",
    "    [0, 1, 0, 0, 1, 0],\n",
    "    [0, 0, 0, 0, 0, 0],\n",
    "    [0, 0, 0, 0, 0, 0],\n",
    "    [0, 0, 0, 0, 0, 0],\n",
    "    [0, 0, 0, 0, 0, 0],\n",
    "    [0, 0, 0, 0, 0, 0]\n",
    "]\n",
    "\n",
    "reaction_info = get_reaction_info(elements, diff)\n",
    "for info in reaction_info:\n",
    "    print(info)\n"
   ],
   "metadata": {
    "collapsed": false,
    "ExecuteTime": {
     "end_time": "2023-08-11T16:35:31.686107Z",
     "start_time": "2023-08-11T16:35:31.649529200Z"
    }
   }
  }
 ],
 "metadata": {
  "kernelspec": {
   "display_name": "Python 3",
   "language": "python",
   "name": "python3"
  },
  "language_info": {
   "codemirror_mode": {
    "name": "ipython",
    "version": 2
   },
   "file_extension": ".py",
   "mimetype": "text/x-python",
   "name": "python",
   "nbconvert_exporter": "python",
   "pygments_lexer": "ipython2",
   "version": "2.7.6"
  }
 },
 "nbformat": 4,
 "nbformat_minor": 0
}
